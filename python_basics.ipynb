{
  "nbformat": 4,
  "nbformat_minor": 0,
  "metadata": {
    "colab": {
      "name": "python basics.ipynb",
      "provenance": [],
      "collapsed_sections": [
        "X7usmoePZ4AL"
      ]
    },
    "kernelspec": {
      "name": "python3",
      "display_name": "Python 3"
    }
  },
  "cells": [
    {
      "cell_type": "code",
      "metadata": {
        "id": "xqVE9gfQC1c4",
        "colab_type": "code",
        "colab": {
          "base_uri": "https://localhost:8080/",
          "height": 36
        },
        "outputId": "23898d45-3133-43c3-d51e-204c38f72e91"
      },
      "source": [
        "print(\"hi\")"
      ],
      "execution_count": null,
      "outputs": [
        {
          "output_type": "stream",
          "text": [
            "hi\n"
          ],
          "name": "stdout"
        }
      ]
    },
    {
      "cell_type": "code",
      "metadata": {
        "id": "iZ_Zt4F7gDdS",
        "colab_type": "code",
        "colab": {}
      },
      "source": [
        "a=5\n",
        "b=3\n",
        "c=a+b"
      ],
      "execution_count": 14,
      "outputs": []
    },
    {
      "cell_type": "code",
      "metadata": {
        "id": "WfEaqhaTg3qO",
        "colab_type": "code",
        "colab": {
          "base_uri": "https://localhost:8080/",
          "height": 36
        },
        "outputId": "4a1277fd-be9c-4cfd-cd7c-141f845140ce"
      },
      "source": [
        "print(\"sum of %d and %d is %d \"%(a,b,c))"
      ],
      "execution_count": 15,
      "outputs": [
        {
          "output_type": "stream",
          "text": [
            "sum of 5 and 3 is 8 \n"
          ],
          "name": "stdout"
        }
      ]
    },
    {
      "cell_type": "code",
      "metadata": {
        "id": "Xan1EcGyg55h",
        "colab_type": "code",
        "colab": {}
      },
      "source": [
        ""
      ],
      "execution_count": 4,
      "outputs": []
    },
    {
      "cell_type": "code",
      "metadata": {
        "id": "550TfJitg7mL",
        "colab_type": "code",
        "colab": {
          "base_uri": "https://localhost:8080/",
          "height": 36
        },
        "outputId": "9eeabf9f-c5e0-48c3-a2d2-20c382de97d8"
      },
      "source": [
        "print(\"hello\"+'hi')"
      ],
      "execution_count": 17,
      "outputs": [
        {
          "output_type": "stream",
          "text": [
            "hellohi\n"
          ],
          "name": "stdout"
        }
      ]
    },
    {
      "cell_type": "markdown",
      "metadata": {
        "id": "smiva8asODZo",
        "colab_type": "text"
      },
      "source": [
        "\n",
        "Print Statement\n",
        "\n",
        "The print statement can be used in the following different ways :\n",
        "\n",
        "- print \"Hello World\"\n",
        "- print \"Hello\", <Variable Containing the String>\n",
        "- print \"Hello\" + <Variable Containing the String>\n",
        "- print \"Hello %s\" % <variable containing the string>\n",
        "\n"
      ]
    },
    {
      "cell_type": "code",
      "metadata": {
        "id": "JQ_zREL9DFja",
        "colab_type": "code",
        "colab": {
          "base_uri": "https://localhost:8080/",
          "height": 36
        },
        "outputId": "7fe1a580-5544-4eaa-dc8e-bdb29040392a"
      },
      "source": [
        "print(\"Hello World\")"
      ],
      "execution_count": null,
      "outputs": [
        {
          "output_type": "stream",
          "text": [
            "Hello World\n"
          ],
          "name": "stdout"
        }
      ]
    },
    {
      "cell_type": "markdown",
      "metadata": {
        "id": "OKjDtQJKOSru",
        "colab_type": "text"
      },
      "source": [
        "In Python, single, double and triple quotes are used to denote a string. Most use single quotes when declaring a single character. Double quotes when declaring a line and triple quotes when declaring a paragraph/multiple lines."
      ]
    },
    {
      "cell_type": "code",
      "metadata": {
        "id": "_bobDxj4DHRq",
        "colab_type": "code",
        "colab": {
          "base_uri": "https://localhost:8080/",
          "height": 36
        },
        "outputId": "bfa2692b-a5b5-4354-8337-a4eabd3928b5"
      },
      "source": [
        "print('Hey')"
      ],
      "execution_count": null,
      "outputs": [
        {
          "output_type": "stream",
          "text": [
            "Hey\n"
          ],
          "name": "stdout"
        }
      ]
    },
    {
      "cell_type": "code",
      "metadata": {
        "id": "b2hbGW73O9Vp",
        "colab_type": "code",
        "colab": {
          "base_uri": "https://localhost:8080/",
          "height": 73
        },
        "outputId": "63af4412-b599-4567-a56c-cc24b330191f"
      },
      "source": [
        "\n",
        "\n",
        "print (\"\"\"This is GMRIT\n",
        "\n",
        "we love Python.\"\"\")"
      ],
      "execution_count": null,
      "outputs": [
        {
          "output_type": "stream",
          "text": [
            "This is GMRIT\n",
            "\n",
            "we love Python.\n"
          ],
          "name": "stdout"
        }
      ]
    },
    {
      "cell_type": "code",
      "metadata": {
        "id": "KztHFs7IPSA7",
        "colab_type": "code",
        "colab": {
          "base_uri": "https://localhost:8080/",
          "height": 54
        },
        "outputId": "229911d7-f816-490f-d965-bc7594bafa0f"
      },
      "source": [
        "string1 = 'World'\n",
        "print ('Hello',string1)\n",
        "\n",
        "string2 = '!'\n",
        "print ('Hello', string1, string2)"
      ],
      "execution_count": null,
      "outputs": [
        {
          "output_type": "stream",
          "text": [
            "Hello World\n",
            "Hello World !\n"
          ],
          "name": "stdout"
        }
      ]
    },
    {
      "cell_type": "markdown",
      "metadata": {
        "id": "qVrsFDWnPkux",
        "colab_type": "text"
      },
      "source": [
        "\n",
        "\n",
        "String concatenation is the \"addition\" of two strings. Observe that while concatenating there will be no space between the strings.\n"
      ]
    },
    {
      "cell_type": "code",
      "metadata": {
        "id": "DnSACsh0Pl5t",
        "colab_type": "code",
        "colab": {
          "base_uri": "https://localhost:8080/",
          "height": 36
        },
        "outputId": "af095144-dc60-4924-84aa-22ed110ec3b0"
      },
      "source": [
        "print ('Hello' +\" \"+ string1 + string2)"
      ],
      "execution_count": null,
      "outputs": [
        {
          "output_type": "stream",
          "text": [
            "HelloWorld!\n"
          ],
          "name": "stdout"
        }
      ]
    },
    {
      "cell_type": "markdown",
      "metadata": {
        "id": "rkGzhw7lP05b",
        "colab_type": "text"
      },
      "source": [
        "%s is used to refer to a variable which contains a string."
      ]
    },
    {
      "cell_type": "code",
      "metadata": {
        "id": "sXG7sKq2P2Y_",
        "colab_type": "code",
        "colab": {
          "base_uri": "https://localhost:8080/",
          "height": 36
        },
        "outputId": "624005d4-e24a-4d05-d741-a65ff93c4999"
      },
      "source": [
        "\n",
        "print (\"Hello %s\" % string1)\n"
      ],
      "execution_count": null,
      "outputs": [
        {
          "output_type": "stream",
          "text": [
            "Hello World\n"
          ],
          "name": "stdout"
        }
      ]
    },
    {
      "cell_type": "markdown",
      "metadata": {
        "id": "-QDi8ipHQJiI",
        "colab_type": "text"
      },
      "source": [
        "Similarly, when using other data types\n",
        "\n",
        "- %s -> string\n",
        "- %d -> Integer\n",
        "- %f -> Float\n",
        "- %o -> Octal\n",
        "- %x -> Hexadecimal\n",
        "- %e -> exponential\n",
        "\n"
      ]
    },
    {
      "cell_type": "code",
      "metadata": {
        "id": "FKr4jCyPQNA2",
        "colab_type": "code",
        "colab": {
          "base_uri": "https://localhost:8080/",
          "height": 186
        },
        "outputId": "eff1a20c-da98-4421-cbf3-f9f286a8199e"
      },
      "source": [
        "print (\"Hello\" ,string1,string2))\n",
        "print (\"Jan\\nFeb\\nMar\\nApr\\nMay\\nJun\\nJul\\nAug\")"
      ],
      "execution_count": null,
      "outputs": [
        {
          "output_type": "stream",
          "text": [
            "Hello World !\n",
            "Jan\n",
            "Feb\n",
            "Mar\n",
            "Apr\n",
            "May\n",
            "Jun\n",
            "Jul\n",
            "Aug\n"
          ],
          "name": "stdout"
        }
      ]
    },
    {
      "cell_type": "markdown",
      "metadata": {
        "id": "HEP_UwMgRVHh",
        "colab_type": "text"
      },
      "source": [
        "# **Variables**\n",
        "A name that is used to denote something or a value is called a variable. In python, variables can be declared and values can be assigned to it as follows"
      ]
    },
    {
      "cell_type": "code",
      "metadata": {
        "id": "kkjP5xpLReER",
        "colab_type": "code",
        "colab": {}
      },
      "source": [
        "x = 2\n",
        "y = 5\n",
        "xy = 'Hey'"
      ],
      "execution_count": null,
      "outputs": []
    },
    {
      "cell_type": "code",
      "metadata": {
        "id": "_aWi1HbjRj-_",
        "colab_type": "code",
        "colab": {
          "base_uri": "https://localhost:8080/",
          "height": 36
        },
        "outputId": "bac27865-5160-4e6b-bfa5-a6e0e0390fe8"
      },
      "source": [
        "print (x+y, xy)"
      ],
      "execution_count": null,
      "outputs": [
        {
          "output_type": "stream",
          "text": [
            "7 Hey\n"
          ],
          "name": "stdout"
        }
      ]
    },
    {
      "cell_type": "markdown",
      "metadata": {
        "id": "beRKdFOCRt1d",
        "colab_type": "text"
      },
      "source": [
        "Multiple variables can be assigned with the same value and unique values."
      ]
    },
    {
      "cell_type": "code",
      "metadata": {
        "id": "B7rcKkDOR5ZE",
        "colab_type": "code",
        "colab": {
          "base_uri": "https://localhost:8080/",
          "height": 54
        },
        "outputId": "03e5b097-3264-4d27-e263-d8139e098811"
      },
      "source": [
        "x = y = 1\n",
        "print(x,y)\n",
        "x,y=2,3\n",
        "print(x,y)"
      ],
      "execution_count": null,
      "outputs": [
        {
          "output_type": "stream",
          "text": [
            "1 1\n",
            "2 3\n"
          ],
          "name": "stdout"
        }
      ]
    },
    {
      "cell_type": "markdown",
      "metadata": {
        "id": "2wjLQrdySKc5",
        "colab_type": "text"
      },
      "source": [
        "\n",
        "Arithmetic Operators\n",
        "\n",
        "Symbol \tTask Performed \n",
        "\n",
        "\\+ Addition\n",
        "\n",
        "\\- \tSubtraction \\\n",
        "\n",
        "/ \tdivision\n",
        "\n",
        "\\% \tmod\n",
        "\n",
        "\\* multiplication \\\n",
        "\n",
        "// \tfloor division\n",
        "\n",
        "\\** \tto the power of"
      ]
    },
    {
      "cell_type": "code",
      "metadata": {
        "id": "36kIG0amTJIX",
        "colab_type": "code",
        "colab": {
          "base_uri": "https://localhost:8080/",
          "height": 167
        },
        "outputId": "a590b339-3ba2-4e5b-ca80-a81b54543ba8"
      },
      "source": [
        "print(1+2)\n",
        "print(1-2)\n",
        "print(1*2)\n",
        "print(1/2)\n",
        "print(1/2.0)\n",
        "# Change either numerator or denominator to float\n",
        "print(12%10)\n",
        "print(2.8//2.0)\n",
        "print(2**3)"
      ],
      "execution_count": null,
      "outputs": [
        {
          "output_type": "stream",
          "text": [
            "3\n",
            "-1\n",
            "2\n",
            "0.5\n",
            "0.5\n",
            "2\n",
            "1.0\n",
            "8\n"
          ],
          "name": "stdout"
        }
      ]
    },
    {
      "cell_type": "markdown",
      "metadata": {
        "id": "D5WMS-PCUEJX",
        "colab_type": "text"
      },
      "source": [
        "# Bitwise Operators\n",
        "\n",
        "\n",
        "---\n",
        "\n",
        "Symbol \tTask Performed\n",
        "1.   & \tLogical And\n",
        "2.   | \tLogical OR\n",
        "3. ^ \tXOR\n",
        "1.   \\>> Right shift\n",
        "2.  \\<< \tLeft shift"
      ]
    },
    {
      "cell_type": "code",
      "metadata": {
        "id": "GmMXAwonT-FI",
        "colab_type": "code",
        "colab": {
          "base_uri": "https://localhost:8080/",
          "height": 73
        },
        "outputId": "8ee46343-6369-4111-c66a-3f7cff4bfdc3"
      },
      "source": [
        "print (int('010',8))\n",
        "print (int('0xaa',16))\n",
        "print (int('1010',2))"
      ],
      "execution_count": null,
      "outputs": [
        {
          "output_type": "stream",
          "text": [
            "8\n",
            "170\n",
            "10\n"
          ],
          "name": "stdout"
        }
      ]
    },
    {
      "cell_type": "code",
      "metadata": {
        "id": "Ubvwhye4VLD9",
        "colab_type": "code",
        "colab": {
          "base_uri": "https://localhost:8080/",
          "height": 54
        },
        "outputId": "5b66e5f9-1fc1-4758-ecf6-085093f31bee"
      },
      "source": [
        "print (int(7.7))\n",
        "print (int('7'))"
      ],
      "execution_count": null,
      "outputs": [
        {
          "output_type": "stream",
          "text": [
            "7\n",
            "7\n"
          ],
          "name": "stdout"
        }
      ]
    },
    {
      "cell_type": "markdown",
      "metadata": {
        "id": "u61c_p1CVUtc",
        "colab_type": "text"
      },
      "source": [
        "Also note that function bin( ) is used for binary and float( ) for decimal/float values. chr( ) is used for converting ASCII to its alphabet equivalent, ord( ) is used for the other way round."
      ]
    },
    {
      "cell_type": "code",
      "metadata": {
        "id": "k0WcJyO4VVx1",
        "colab_type": "code",
        "colab": {
          "base_uri": "https://localhost:8080/",
          "height": 36
        },
        "outputId": "abe37d07-7a7e-4669-b466-1bb14c7daba4"
      },
      "source": [
        "print(chr(98))"
      ],
      "execution_count": null,
      "outputs": [
        {
          "output_type": "stream",
          "text": [
            "b\n"
          ],
          "name": "stdout"
        }
      ]
    },
    {
      "cell_type": "code",
      "metadata": {
        "id": "kQd1yn-nVj_6",
        "colab_type": "code",
        "colab": {
          "base_uri": "https://localhost:8080/",
          "height": 36
        },
        "outputId": "1bf06c14-22c5-494a-d74e-8fcadb887125"
      },
      "source": [
        "print(ord('b'))"
      ],
      "execution_count": null,
      "outputs": [
        {
          "output_type": "stream",
          "text": [
            "98\n"
          ],
          "name": "stdout"
        }
      ]
    },
    {
      "cell_type": "code",
      "metadata": {
        "id": "d4BnPjO5WH88",
        "colab_type": "code",
        "colab": {
          "base_uri": "https://localhost:8080/",
          "height": 54
        },
        "outputId": "4395bbaf-1baf-43c3-9d92-a1f789678ac5"
      },
      "source": [
        "# round( ) function rounds the input value to a specified number of places or to the nearest integer.\n",
        "print (round(5.6231)) \n",
        "print (round(4.55892, 2))"
      ],
      "execution_count": null,
      "outputs": [
        {
          "output_type": "stream",
          "text": [
            "6\n",
            "4.56\n"
          ],
          "name": "stdout"
        }
      ]
    },
    {
      "cell_type": "code",
      "metadata": {
        "id": "44dvGmTgWR6s",
        "colab_type": "code",
        "colab": {
          "base_uri": "https://localhost:8080/",
          "height": 36
        },
        "outputId": "df2f878b-c981-4426-8bda-7aba8996dfb5"
      },
      "source": [
        "#complex( ) is used to define a complex number and abs( ) outputs the absolute value of the same.\n",
        "c =complex('5+2j')\n",
        "print (abs(c))"
      ],
      "execution_count": null,
      "outputs": [
        {
          "output_type": "stream",
          "text": [
            "5.385164807134504\n"
          ],
          "name": "stdout"
        }
      ]
    },
    {
      "cell_type": "code",
      "metadata": {
        "id": "DYsTgYGQWhN_",
        "colab_type": "code",
        "colab": {
          "base_uri": "https://localhost:8080/",
          "height": 36
        },
        "outputId": "ff521be9-afac-4da6-b208-59e2000c1335"
      },
      "source": [
        "#divmod(x,y) outputs the quotient and the remainder in a tuple\n",
        "\n",
        "divmod(9,2)"
      ],
      "execution_count": null,
      "outputs": [
        {
          "output_type": "execute_result",
          "data": {
            "text/plain": [
              "(4, 1)"
            ]
          },
          "metadata": {
            "tags": []
          },
          "execution_count": 30
        }
      ]
    },
    {
      "cell_type": "markdown",
      "metadata": {
        "id": "qXpLwOIVW-O8",
        "colab_type": "text"
      },
      "source": [
        "**pow(x,y,z**) can be used to find the power $x^y$ also the mod of the resulting value with the third specified number can be found i.e. : ($x^y$ % z)."
      ]
    },
    {
      "cell_type": "code",
      "metadata": {
        "id": "01Y7GTwqWv6u",
        "colab_type": "code",
        "colab": {
          "base_uri": "https://localhost:8080/",
          "height": 54
        },
        "outputId": "03e9f4d3-de8d-41ae-a202-29e280be68cc"
      },
      "source": [
        "print (pow(3,3))\n",
        "print (pow(3,3,5))"
      ],
      "execution_count": null,
      "outputs": [
        {
          "output_type": "stream",
          "text": [
            "27\n",
            "2\n"
          ],
          "name": "stdout"
        }
      ]
    },
    {
      "cell_type": "markdown",
      "metadata": {
        "id": "m0_aD0cQXO4O",
        "colab_type": "text"
      },
      "source": [
        "**range( )** function outputs the integers of the specified range. It can also be used to generate a series by specifying the difference between the two numbers within a particular range."
      ]
    },
    {
      "cell_type": "code",
      "metadata": {
        "id": "hhNA7siCXjyQ",
        "colab_type": "code",
        "colab": {
          "base_uri": "https://localhost:8080/",
          "height": 92
        },
        "outputId": "74422bb1-39da-44a6-bfb1-7d014ad1cce4"
      },
      "source": [
        "\n",
        "for i in range(3):\n",
        "  print(i)\n",
        "\n",
        "for i in range(5, 10):\n",
        "  print(i,end=\",\")\n",
        "  \n",
        "for i in range(2, 27, 8):\n",
        "  print(i)"
      ],
      "execution_count": null,
      "outputs": [
        {
          "output_type": "stream",
          "text": [
            "2\n",
            "10\n",
            "18\n",
            "26\n"
          ],
          "name": "stdout"
        }
      ]
    },
    {
      "cell_type": "markdown",
      "metadata": {
        "id": "xh0V9j23Y_Ul",
        "colab_type": "text"
      },
      "source": [
        "# Accepting User Inputs\n",
        "raw_input( ) accepts input and stores it as a string. Hence, if the user inputs a integer, the code should convert the string to an integer and then proceed."
      ]
    },
    {
      "cell_type": "code",
      "metadata": {
        "id": "z3KNHhaBZV2S",
        "colab_type": "code",
        "colab": {
          "base_uri": "https://localhost:8080/",
          "height": 36
        },
        "outputId": "fc2924c0-e625-4c5f-e070-9541da955623"
      },
      "source": [
        "abc = int(input(\"Type something here and it will be stored in variable abc \\t\"))"
      ],
      "execution_count": 18,
      "outputs": [
        {
          "output_type": "stream",
          "text": [
            "Type something here and it will be stored in variable abc \t30\n"
          ],
          "name": "stdout"
        }
      ]
    },
    {
      "cell_type": "code",
      "metadata": {
        "id": "dHGUwQs1jzvU",
        "colab_type": "code",
        "colab": {
          "base_uri": "https://localhost:8080/",
          "height": 36
        },
        "outputId": "ff066127-1727-4c77-d9b3-73fcbe055c09"
      },
      "source": [
        "abc"
      ],
      "execution_count": 19,
      "outputs": [
        {
          "output_type": "execute_result",
          "data": {
            "text/plain": [
              "30"
            ]
          },
          "metadata": {
            "tags": []
          },
          "execution_count": 19
        }
      ]
    },
    {
      "cell_type": "code",
      "metadata": {
        "id": "_VIqDXsfZbM-",
        "colab_type": "code",
        "colab": {
          "base_uri": "https://localhost:8080/",
          "height": 36
        },
        "outputId": "e1e1bd2c-fea9-42a7-fb26-a1a77f938dd0"
      },
      "source": [
        "type(int(abc))"
      ],
      "execution_count": null,
      "outputs": [
        {
          "output_type": "execute_result",
          "data": {
            "text/plain": [
              "int"
            ]
          },
          "metadata": {
            "tags": []
          },
          "execution_count": 46
        }
      ]
    },
    {
      "cell_type": "code",
      "metadata": {
        "id": "tt5eQz3fZcdP",
        "colab_type": "code",
        "colab": {
          "base_uri": "https://localhost:8080/",
          "height": 36
        },
        "outputId": "c0a6bb71-1ca7-4853-b559-90054381d895"
      },
      "source": [
        "\n",
        "# Note that type( ) returns the format or the type of a variable or a number\n",
        "type(abc)"
      ],
      "execution_count": null,
      "outputs": [
        {
          "output_type": "execute_result",
          "data": {
            "text/plain": [
              "str"
            ]
          },
          "metadata": {
            "tags": []
          },
          "execution_count": 44
        }
      ]
    },
    {
      "cell_type": "markdown",
      "metadata": {
        "id": "X7usmoePZ4AL",
        "colab_type": "text"
      },
      "source": [
        "\n",
        "# Data Structures\n",
        "\n",
        "In simple terms, It is the the collection or group of data in a particular structure.\n"
      ]
    },
    {
      "cell_type": "markdown",
      "metadata": {
        "id": "v5_BioH-Z-Rk",
        "colab_type": "text"
      },
      "source": [
        "\n",
        "# Lists\n",
        "\n",
        "Lists are the most commonly used data structure. Think of it as a sequence of data that is enclosed in square brackets and data are separated by a comma. Each of these data can be accessed by calling it's index value.\n",
        "\n",
        "Lists are declared by just equating a variable to '[ ]' or list.\n"
      ]
    },
    {
      "cell_type": "code",
      "metadata": {
        "id": "b33-zKkqaHET",
        "colab_type": "code",
        "colab": {
          "base_uri": "https://localhost:8080/",
          "height": 36
        },
        "outputId": "36f001de-2837-46d8-9f47-5c1f945bc319"
      },
      "source": [
        "a = []\n",
        "print (type(a))"
      ],
      "execution_count": null,
      "outputs": [
        {
          "output_type": "stream",
          "text": [
            "<class 'list'>\n"
          ],
          "name": "stdout"
        }
      ]
    },
    {
      "cell_type": "markdown",
      "metadata": {
        "id": "6Bl0ERAZaUVe",
        "colab_type": "text"
      },
      "source": [
        "One can directly assign the sequence of data to a list x as shown"
      ]
    },
    {
      "cell_type": "code",
      "metadata": {
        "id": "Sql_K_pyaVhl",
        "colab_type": "code",
        "colab": {}
      },
      "source": [
        "x = ['apple', 'orange','papaya']"
      ],
      "execution_count": null,
      "outputs": []
    },
    {
      "cell_type": "markdown",
      "metadata": {
        "id": "3v8hrNRSavUy",
        "colab_type": "text"
      },
      "source": [
        "In python, Indexing starts from 0. Thus now the list x, which has two elements will have apple at 0 index and orange at 1 index.\n",
        "\n",
        "Indexing can also be done in reverse order. That is the last element can be accessed first. Here, indexing starts from -1. Thus index value -1 will be papaya and index -2 will be orange."
      ]
    },
    {
      "cell_type": "code",
      "metadata": {
        "id": "I4oijTHmahpi",
        "colab_type": "code",
        "colab": {
          "base_uri": "https://localhost:8080/",
          "height": 54
        },
        "outputId": "c7bda902-bedc-4da3-ce38-19e29894f4b7"
      },
      "source": [
        "\n",
        "print (x[0])\n",
        "print(x[-1])"
      ],
      "execution_count": null,
      "outputs": [
        {
          "output_type": "stream",
          "text": [
            "apple\n",
            "papaya\n"
          ],
          "name": "stdout"
        }
      ]
    },
    {
      "cell_type": "code",
      "metadata": {
        "id": "lE8nj51wbCuP",
        "colab_type": "code",
        "colab": {}
      },
      "source": [
        "y = ['carrot','potato']"
      ],
      "execution_count": null,
      "outputs": []
    },
    {
      "cell_type": "markdown",
      "metadata": {
        "id": "A76e9c3gbEOq",
        "colab_type": "text"
      },
      "source": [
        "Here we have declared two lists x and y each containing its own data. Now, these two lists can again be put into another list say z which will have it's data as two lists. This list inside a list is called as nested lists and is how an array would be declared which we will see later."
      ]
    },
    {
      "cell_type": "code",
      "metadata": {
        "id": "SO15qO08bJh0",
        "colab_type": "code",
        "colab": {
          "base_uri": "https://localhost:8080/",
          "height": 36
        },
        "outputId": "868c595c-a1f8-491b-9629-821e87938067"
      },
      "source": [
        "z  = [x,y]\n",
        "print (z)"
      ],
      "execution_count": null,
      "outputs": [
        {
          "output_type": "stream",
          "text": [
            "[['apple', 'orange', 'papaya'], ['carrot', 'potato']]\n"
          ],
          "name": "stdout"
        }
      ]
    },
    {
      "cell_type": "code",
      "metadata": {
        "id": "1O8hLPUcbaML",
        "colab_type": "code",
        "colab": {
          "base_uri": "https://localhost:8080/",
          "height": 36
        },
        "outputId": "f368ec62-47a7-4b7d-d1bf-e2dd0cba5bc1"
      },
      "source": [
        "z1 = z[0]\n",
        "print(z1)"
      ],
      "execution_count": null,
      "outputs": [
        {
          "output_type": "stream",
          "text": [
            "['apple', 'orange', 'papaya']\n"
          ],
          "name": "stdout"
        }
      ]
    },
    {
      "cell_type": "code",
      "metadata": {
        "id": "0Q7W-13zbc53",
        "colab_type": "code",
        "colab": {
          "base_uri": "https://localhost:8080/",
          "height": 54
        },
        "outputId": "6f520c44-9993-46a4-a361-62aa186a5178"
      },
      "source": [
        "\n",
        "print(z1[0])\n",
        "print(z[0][0])"
      ],
      "execution_count": null,
      "outputs": [
        {
          "output_type": "stream",
          "text": [
            "apple\n",
            "apple\n"
          ],
          "name": "stdout"
        }
      ]
    },
    {
      "cell_type": "markdown",
      "metadata": {
        "id": "-ta2Cx1sb0-E",
        "colab_type": "text"
      },
      "source": [
        "\n",
        "# Slicing\n",
        "\n",
        "Indexing was only limited to accessing a single element, Slicing on the other hand is accessing a sequence of data inside the list. In other words \"slicing\" the list.\n",
        "\n",
        "Slicing is done by defining the index values of the first element and the last element from the parent list that is required in the sliced list. It is written as parentlist[ a : b ] where a,b are the index values from the parent list. If a or b is not defined then the index value is considered to be the first value for a if a is not defined and the last value for b when b is not defined.\n"
      ]
    },
    {
      "cell_type": "code",
      "metadata": {
        "id": "wMwTIyOGb5H_",
        "colab_type": "code",
        "colab": {}
      },
      "source": [
        "num = [0,1,2,3,4,5,6,7,8,9]"
      ],
      "execution_count": null,
      "outputs": []
    },
    {
      "cell_type": "code",
      "metadata": {
        "id": "7urITJeBb-_A",
        "colab_type": "code",
        "colab": {
          "base_uri": "https://localhost:8080/",
          "height": 54
        },
        "outputId": "3dcfbe94-129d-4b96-dc23-73b153f1bbd3"
      },
      "source": [
        "print (num[0:4])\n",
        "print (num[4:])\n"
      ],
      "execution_count": null,
      "outputs": [
        {
          "output_type": "stream",
          "text": [
            "[0, 1, 2, 3]\n",
            "[4, 5, 6, 7, 8, 9]\n"
          ],
          "name": "stdout"
        }
      ]
    },
    {
      "cell_type": "code",
      "metadata": {
        "id": "ixoTcZ60cOsS",
        "colab_type": "code",
        "colab": {
          "base_uri": "https://localhost:8080/",
          "height": 36
        },
        "outputId": "feda043f-8250-4e4b-cd4c-f5e8ade2da11"
      },
      "source": [
        "#You can also slice a parent list with a fixed length or step length.\n",
        "num[:9:3]"
      ],
      "execution_count": null,
      "outputs": [
        {
          "output_type": "execute_result",
          "data": {
            "text/plain": [
              "[0, 3, 6]"
            ]
          },
          "metadata": {
            "tags": []
          },
          "execution_count": 59
        }
      ]
    },
    {
      "cell_type": "markdown",
      "metadata": {
        "id": "_U62BKmCcc22",
        "colab_type": "text"
      },
      "source": [
        "# Built in List Functions\n",
        "\n",
        "To find the length of the list or the number of elements in a list, len( ) is used.\n",
        "\n",
        "\n",
        "\n",
        "If the list consists of all integer elements then min( ) and max( ) gives the minimum and maximum value in the list.\n",
        "\n",
        "\n",
        "Lists can be concatenated by adding, '+' them. The resultant list will contain all the elements of the lists that were added. The resultant list will not be a nested list.\n",
        "\n",
        "\n",
        "\n",
        "append( ) is used to add a element at the end of the list.\n",
        "\n",
        "\n",
        "count( ) is used to count the number of a particular element that is present in the list.\n",
        "\n",
        "... and many more"
      ]
    },
    {
      "cell_type": "code",
      "metadata": {
        "id": "IzJEarZedAC1",
        "colab_type": "code",
        "colab": {
          "base_uri": "https://localhost:8080/",
          "height": 73
        },
        "outputId": "59269129-7337-4438-b9ce-22a749ab300b"
      },
      "source": [
        "print(len(num))\n",
        "print(min(num))\n",
        "print(max(num))"
      ],
      "execution_count": null,
      "outputs": [
        {
          "output_type": "stream",
          "text": [
            "10\n",
            "0\n",
            "9\n"
          ],
          "name": "stdout"
        }
      ]
    },
    {
      "cell_type": "code",
      "metadata": {
        "id": "gGG9eNRZdO9c",
        "colab_type": "code",
        "colab": {
          "base_uri": "https://localhost:8080/",
          "height": 36
        },
        "outputId": "ebfaa305-16da-490e-e076-893b8bc23ee5"
      },
      "source": [
        "[1,2,3] + [5,4,7]"
      ],
      "execution_count": null,
      "outputs": [
        {
          "output_type": "execute_result",
          "data": {
            "text/plain": [
              "[1, 2, 3, 5, 4, 7]"
            ]
          },
          "metadata": {
            "tags": []
          },
          "execution_count": 61
        }
      ]
    },
    {
      "cell_type": "code",
      "metadata": {
        "id": "Jfh_op2adSY4",
        "colab_type": "code",
        "colab": {
          "base_uri": "https://localhost:8080/",
          "height": 36
        },
        "outputId": "5538df77-5fc0-4aac-a309-a27b17bc53e4"
      },
      "source": [
        "#There might arise a requirement where you might need to check if a particular element is there in a predefined list. Consider the below list.\n",
        "names = ['Earth','Air','Fire','Water']\n",
        "'Fire' in names"
      ],
      "execution_count": null,
      "outputs": [
        {
          "output_type": "execute_result",
          "data": {
            "text/plain": [
              "True"
            ]
          },
          "metadata": {
            "tags": []
          },
          "execution_count": 62
        }
      ]
    },
    {
      "cell_type": "markdown",
      "metadata": {
        "id": "Bo6dFJvXdjom",
        "colab_type": "text"
      },
      "source": [
        "In a list with elements as string, max( ) and min( ) is applicable. max( ) would return a string element whose ASCII value is the highest and the lowest when min( ) is used. Note that only the first index of each element is considered each time and if they value is the same then second index considered so on and so forth."
      ]
    },
    {
      "cell_type": "code",
      "metadata": {
        "id": "RZu02QKbdkWy",
        "colab_type": "code",
        "colab": {
          "base_uri": "https://localhost:8080/",
          "height": 54
        },
        "outputId": "b8d7dac3-7363-4faa-b451-395bdd2e2e84"
      },
      "source": [
        "mlist = ['bzaa','ds','nc','az','z','klm']\n",
        "print(max(mlist))\n",
        "print(min(mlist))"
      ],
      "execution_count": null,
      "outputs": [
        {
          "output_type": "stream",
          "text": [
            "z\n",
            "az\n"
          ],
          "name": "stdout"
        }
      ]
    },
    {
      "cell_type": "markdown",
      "metadata": {
        "id": "4gm79TtxecVZ",
        "colab_type": "text"
      },
      "source": [
        "But if you want to find the max( ) string element based on the length of the string then another parameter 'key=len' is declared inside the max( ) and min( ) function"
      ]
    },
    {
      "cell_type": "code",
      "metadata": {
        "id": "B7WBGTNPeMML",
        "colab_type": "code",
        "colab": {
          "base_uri": "https://localhost:8080/",
          "height": 54
        },
        "outputId": "2872cda7-5cdf-4055-80f9-8b6d68e77206"
      },
      "source": [
        "\n",
        "print (max(names, key=len))\n",
        "print (min(names, key=len))"
      ],
      "execution_count": null,
      "outputs": [
        {
          "output_type": "stream",
          "text": [
            "Earth\n",
            "Air\n"
          ],
          "name": "stdout"
        }
      ]
    },
    {
      "cell_type": "code",
      "metadata": {
        "id": "5WdZkRrQeeOG",
        "colab_type": "code",
        "colab": {
          "base_uri": "https://localhost:8080/",
          "height": 36
        },
        "outputId": "01bf3ee6-044a-41d9-edee-9f12415bbd7a"
      },
      "source": [
        "#A string can be converted into a list by using the list() function\n",
        "\n",
        "\n",
        "list('hello')"
      ],
      "execution_count": null,
      "outputs": [
        {
          "output_type": "execute_result",
          "data": {
            "text/plain": [
              "['h', 'e', 'l', 'l', 'o']"
            ]
          },
          "metadata": {
            "tags": []
          },
          "execution_count": 3
        }
      ]
    },
    {
      "cell_type": "markdown",
      "metadata": {
        "id": "ML82TFP6e0wx",
        "colab_type": "text"
      },
      "source": [
        "**append( )** is used to add a element at the end of the list."
      ]
    },
    {
      "cell_type": "code",
      "metadata": {
        "id": "ngcMgZYFetow",
        "colab_type": "code",
        "colab": {
          "base_uri": "https://localhost:8080/",
          "height": 36
        },
        "outputId": "7b8a22e2-3708-4ed7-ed54-188b6a98e45a"
      },
      "source": [
        "lst = [1,1,4,8,7]\n",
        "\n",
        "\n",
        "lst.append(1)\n",
        "print (lst)"
      ],
      "execution_count": 26,
      "outputs": [
        {
          "output_type": "stream",
          "text": [
            "[1, 1, 4, 8, 7, 1]\n"
          ],
          "name": "stdout"
        }
      ]
    },
    {
      "cell_type": "markdown",
      "metadata": {
        "id": "urOqXZiffE3m",
        "colab_type": "text"
      },
      "source": [
        "**count( )** is used to count the number of a particular element that is present in the list."
      ]
    },
    {
      "cell_type": "code",
      "metadata": {
        "id": "KbjFhS_EfGXF",
        "colab_type": "code",
        "colab": {
          "base_uri": "https://localhost:8080/",
          "height": 36
        },
        "outputId": "de812f9d-0a85-4946-f287-e05212a86ada"
      },
      "source": [
        "\n",
        "\n",
        "lst.count(1)\n",
        "\n"
      ],
      "execution_count": null,
      "outputs": [
        {
          "output_type": "execute_result",
          "data": {
            "text/plain": [
              "3"
            ]
          },
          "metadata": {
            "tags": []
          },
          "execution_count": 5
        }
      ]
    },
    {
      "cell_type": "markdown",
      "metadata": {
        "id": "Jx29lXoifJG3",
        "colab_type": "text"
      },
      "source": [
        "  **append( ) function** can also be used to add a entire list at the end. Observe that the resultant list becomes a nested list."
      ]
    },
    {
      "cell_type": "code",
      "metadata": {
        "id": "QYP3uUvAfQar",
        "colab_type": "code",
        "colab": {
          "base_uri": "https://localhost:8080/",
          "height": 36
        },
        "outputId": "779192af-4dba-4e96-e79e-1e887636867a"
      },
      "source": [
        "lst1 = [5,4,2,8]\n",
        "\n",
        "\n",
        "lst.append(lst1)\n",
        "print (lst)"
      ],
      "execution_count": null,
      "outputs": [
        {
          "output_type": "stream",
          "text": [
            "[1, 1, 4, 8, 7, 1, [5, 4, 2, 8]]\n"
          ],
          "name": "stdout"
        }
      ]
    },
    {
      "cell_type": "markdown",
      "metadata": {
        "id": "fjtcM3_zGxY1",
        "colab_type": "text"
      },
      "source": [
        "\n",
        "\n",
        "But if nested list is not what is desired then extend( ) function can be used.\n"
      ]
    },
    {
      "cell_type": "code",
      "metadata": {
        "id": "D60Ftj8fGzlq",
        "colab_type": "code",
        "colab": {
          "base_uri": "https://localhost:8080/",
          "height": 36
        },
        "outputId": "ced36d07-629c-42c1-a750-6b037f65df72"
      },
      "source": [
        "\n",
        "lst.extend(lst1)\n",
        "print(lst)"
      ],
      "execution_count": null,
      "outputs": [
        {
          "output_type": "stream",
          "text": [
            "[1, 1, 4, 8, 7, 1, [5, 4, 2, 8], 5, 4, 2, 8]\n"
          ],
          "name": "stdout"
        }
      ]
    },
    {
      "cell_type": "markdown",
      "metadata": {
        "id": "zwKKg7FzITrR",
        "colab_type": "text"
      },
      "source": [
        "index( ) is used to find the index value of a particular element. Note that if there are multiple elements of the same value then the first index value of that element is returned."
      ]
    },
    {
      "cell_type": "code",
      "metadata": {
        "id": "1xxB2suvIinP",
        "colab_type": "code",
        "colab": {
          "base_uri": "https://localhost:8080/",
          "height": 36
        },
        "outputId": "836801a3-fc14-4401-ca77-9ec2bb6527a0"
      },
      "source": [
        "lst.index(1)"
      ],
      "execution_count": null,
      "outputs": [
        {
          "output_type": "execute_result",
          "data": {
            "text/plain": [
              "0"
            ]
          },
          "metadata": {
            "tags": []
          },
          "execution_count": 8
        }
      ]
    },
    {
      "cell_type": "markdown",
      "metadata": {
        "id": "VAXQyjGPIv5_",
        "colab_type": "text"
      },
      "source": [
        "insert(x,y) is used to insert a element y at a specified index value x. append( ) function made it only possible to insert at the end."
      ]
    },
    {
      "cell_type": "code",
      "metadata": {
        "id": "f7miK578IxPk",
        "colab_type": "code",
        "colab": {
          "base_uri": "https://localhost:8080/",
          "height": 36
        },
        "outputId": "bc85c781-ef0e-430e-cf27-b5b2729bde7f"
      },
      "source": [
        "lst.insert(5, 'name')\n",
        "print(lst)"
      ],
      "execution_count": null,
      "outputs": [
        {
          "output_type": "stream",
          "text": [
            "[1, 1, 4, 8, 7, 'name', 1, [5, 4, 2, 8], 5, 4, 2, 8]\n"
          ],
          "name": "stdout"
        }
      ]
    },
    {
      "cell_type": "markdown",
      "metadata": {
        "id": "m89E6yy2JB9x",
        "colab_type": "text"
      },
      "source": [
        "insert(x,y) inserts but does not replace element. If you want to replace the element with another element you simply assign the value to that particular index."
      ]
    },
    {
      "cell_type": "code",
      "metadata": {
        "id": "lko-Ok7RJDGg",
        "colab_type": "code",
        "colab": {
          "base_uri": "https://localhost:8080/",
          "height": 36
        },
        "outputId": "aba7bed7-5508-4805-989c-9fc20a62f44f"
      },
      "source": [
        "lst[5] = 'Python'\n",
        "print(lst)"
      ],
      "execution_count": null,
      "outputs": [
        {
          "output_type": "stream",
          "text": [
            "[1, 1, 4, 8, 7, 'Python', 1, [5, 4, 2, 8], 5, 4, 2, 8]\n"
          ],
          "name": "stdout"
        }
      ]
    },
    {
      "cell_type": "code",
      "metadata": {
        "id": "hkWL4yMnJLFe",
        "colab_type": "code",
        "colab": {
          "base_uri": "https://localhost:8080/",
          "height": 36
        },
        "outputId": "368166ff-89f8-4ab6-a639-2b2cf013816a"
      },
      "source": [
        "lst.pop()"
      ],
      "execution_count": null,
      "outputs": [
        {
          "output_type": "execute_result",
          "data": {
            "text/plain": [
              "8"
            ]
          },
          "metadata": {
            "tags": []
          },
          "execution_count": 13
        }
      ]
    },
    {
      "cell_type": "code",
      "metadata": {
        "id": "hUf10id3JQir",
        "colab_type": "code",
        "colab": {
          "base_uri": "https://localhost:8080/",
          "height": 36
        },
        "outputId": "1b97d5b7-8fbb-414b-d299-a823f368b952"
      },
      "source": [
        "lst.pop(0)"
      ],
      "execution_count": null,
      "outputs": [
        {
          "output_type": "execute_result",
          "data": {
            "text/plain": [
              "1"
            ]
          },
          "metadata": {
            "tags": []
          },
          "execution_count": 14
        }
      ]
    },
    {
      "cell_type": "code",
      "metadata": {
        "id": "CaUfv93PJY8R",
        "colab_type": "code",
        "colab": {
          "base_uri": "https://localhost:8080/",
          "height": 54
        },
        "outputId": "2b5f69cf-4e5b-481c-c24d-da0fcfc85908"
      },
      "source": [
        "# use remove keyword to remove the element\n",
        "lst.remove('Python')\n",
        "print (lst)\n",
        "\n",
        "\n",
        "# But we can also remove the element based on the index using del keyword\n",
        "\n",
        "del lst[1]\n",
        "print (lst)"
      ],
      "execution_count": null,
      "outputs": [
        {
          "output_type": "stream",
          "text": [
            "[1, 4, 8, 7, 1, [5, 4, 2, 8], 5, 4, 2]\n",
            "[1, 8, 7, 1, [5, 4, 2, 8], 5, 4, 2]\n"
          ],
          "name": "stdout"
        }
      ]
    },
    {
      "cell_type": "code",
      "metadata": {
        "id": "JjU3xR0GJ5zs",
        "colab_type": "code",
        "colab": {
          "base_uri": "https://localhost:8080/",
          "height": 36
        },
        "outputId": "b1110ed4-a385-42a4-a10b-5a1ed3f78728"
      },
      "source": [
        "#The entire elements present in the list can be reversed by using the reverse() function.\n",
        "lst.reverse()\n",
        "print(lst)\n"
      ],
      "execution_count": null,
      "outputs": [
        {
          "output_type": "stream",
          "text": [
            "[2, 4, 5, [5, 4, 2, 8], 1, 7, 8, 1]\n"
          ],
          "name": "stdout"
        }
      ]
    },
    {
      "cell_type": "markdown",
      "metadata": {
        "id": "JFWKmmRePWE_",
        "colab_type": "text"
      },
      "source": [
        "Note that the nested list [5,4,2,8] is treated as a single element of the parent list lst. Thus the elements inside the nested list is not reversed."
      ]
    },
    {
      "cell_type": "code",
      "metadata": {
        "id": "0frvPw00P4II",
        "colab_type": "code",
        "colab": {}
      },
      "source": [
        "list2=[5,4,1,9,8,3]"
      ],
      "execution_count": 1,
      "outputs": []
    },
    {
      "cell_type": "code",
      "metadata": {
        "id": "pgaJ49z5PXg_",
        "colab_type": "code",
        "colab": {
          "base_uri": "https://localhost:8080/",
          "height": 54
        },
        "outputId": "3bebd7bb-eb67-44a2-c57d-0a1c0e44f36f"
      },
      "source": [
        "#Python offers built in operation sort( ) to arrange the elements in ascending order.\n",
        "list2.sort()\n",
        "print (list2)\n",
        "\n",
        "\n",
        "# for reversing sorting process ser reverse to true, by default reverse is set to true\n",
        "\n",
        "list2.sort(reverse=True)\n",
        "print (list2)\n",
        "\n"
      ],
      "execution_count": 2,
      "outputs": [
        {
          "output_type": "stream",
          "text": [
            "[1, 3, 4, 5, 8, 9]\n",
            "[9, 8, 5, 4, 3, 1]\n"
          ],
          "name": "stdout"
        }
      ]
    },
    {
      "cell_type": "code",
      "metadata": {
        "id": "qbVGhS4oROx-",
        "colab_type": "code",
        "colab": {
          "base_uri": "https://localhost:8080/",
          "height": 36
        },
        "outputId": "ddab961d-cda6-48ba-eafa-f3f23f2ef14b"
      },
      "source": [
        "# Copying a list\n",
        "lista= [2,1,4,3]\n",
        "listb = lista\n",
        "print (listb)"
      ],
      "execution_count": null,
      "outputs": [
        {
          "output_type": "stream",
          "text": [
            "[2, 1, 4, 3]\n"
          ],
          "name": "stdout"
        }
      ]
    },
    {
      "cell_type": "markdown",
      "metadata": {
        "id": "G4MKf1uWR92d",
        "colab_type": "text"
      },
      "source": [
        "# Tuples\n",
        "\n",
        "\n",
        "Tuples are similar to lists but only big difference is the elements inside a list can be changed but in tuple it cannot be changed. Think of tuples as something which has to be True for a particular something and cannot be True for no other values."
      ]
    },
    {
      "cell_type": "code",
      "metadata": {
        "id": "CWHnB858SRos",
        "colab_type": "code",
        "colab": {
          "base_uri": "https://localhost:8080/",
          "height": 54
        },
        "outputId": "ec60ed88-3f8d-420d-c760-95d43711ae59"
      },
      "source": [
        "# For better understanding, Recall divmod() function.\n",
        "xyz = divmod(10,3)\n",
        "print (xyz)\n",
        "print (type(xyz))"
      ],
      "execution_count": null,
      "outputs": [
        {
          "output_type": "stream",
          "text": [
            "(3, 1)\n",
            "<class 'tuple'>\n"
          ],
          "name": "stdout"
        }
      ]
    },
    {
      "cell_type": "markdown",
      "metadata": {
        "id": "zWndHBfTSmNu",
        "colab_type": "text"
      },
      "source": [
        "Here the quotient has to be 3 and the remainder has to be 1. These values cannot be changed whatsoever when 10 is divided by 3. Hence divmod returns these values in a tuple"
      ]
    },
    {
      "cell_type": "code",
      "metadata": {
        "id": "h8NSI0w_ShU4",
        "colab_type": "code",
        "colab": {
          "base_uri": "https://localhost:8080/",
          "height": 36
        },
        "outputId": "785ddeaa-1996-4d84-e726-7a28362db8bf"
      },
      "source": [
        "# To define a tuple, A variable is assigned to paranthesis ( ) or tuple( ).\n",
        "\n",
        "tup = ()\n",
        "tup2 = tuple()\n",
        "\n",
        "# If you want to directly declare a tuple it can be done by using a comma at the end of the data.\n",
        "\n",
        "27,\n"
      ],
      "execution_count": null,
      "outputs": [
        {
          "output_type": "execute_result",
          "data": {
            "text/plain": [
              "(27,)"
            ]
          },
          "metadata": {
            "tags": []
          },
          "execution_count": 28
        }
      ]
    },
    {
      "cell_type": "code",
      "metadata": {
        "id": "wCQmr0oOfS50",
        "colab_type": "code",
        "colab": {}
      },
      "source": [
        "tup1 = ('physics', 'chemistry', 1997, 2000)\n",
        "tup2 = (1, 2, 3, 4, 5 )\n",
        "tup3 = \"a\", \"b\", \"c\", \"d\""
      ],
      "execution_count": 71,
      "outputs": []
    },
    {
      "cell_type": "markdown",
      "metadata": {
        "id": "j4tvwANBfZaJ",
        "colab_type": "text"
      },
      "source": [
        "The empty tuple is written as two parentheses containing nothing −\n",
        "\n",
        "\n",
        "To write a tuple containing a single value you have to include a comma, even though there is only one value −"
      ]
    },
    {
      "cell_type": "code",
      "metadata": {
        "id": "VZ2rUwGMfhaZ",
        "colab_type": "code",
        "colab": {}
      },
      "source": [
        "tup1 = ()\n",
        "\n",
        "tup1 = (50,)"
      ],
      "execution_count": 2,
      "outputs": []
    },
    {
      "cell_type": "code",
      "metadata": {
        "id": "74i24TiCBn6o",
        "colab_type": "code",
        "colab": {
          "base_uri": "https://localhost:8080/",
          "height": 175
        },
        "outputId": "97b89dd8-0b0f-4597-989a-1806ec0118eb"
      },
      "source": [
        "tup1[0]='maths'"
      ],
      "execution_count": 74,
      "outputs": [
        {
          "output_type": "error",
          "ename": "TypeError",
          "evalue": "ignored",
          "traceback": [
            "\u001b[0;31m---------------------------------------------------------------------------\u001b[0m",
            "\u001b[0;31mTypeError\u001b[0m                                 Traceback (most recent call last)",
            "\u001b[0;32m<ipython-input-74-a246d55936aa>\u001b[0m in \u001b[0;36m<module>\u001b[0;34m()\u001b[0m\n\u001b[0;32m----> 1\u001b[0;31m \u001b[0mtup1\u001b[0m\u001b[0;34m[\u001b[0m\u001b[0;36m0\u001b[0m\u001b[0;34m]\u001b[0m\u001b[0;34m=\u001b[0m\u001b[0;34m'maths'\u001b[0m\u001b[0;34m\u001b[0m\u001b[0;34m\u001b[0m\u001b[0m\n\u001b[0m",
            "\u001b[0;31mTypeError\u001b[0m: 'tuple' object does not support item assignment"
          ]
        }
      ]
    },
    {
      "cell_type": "markdown",
      "metadata": {
        "id": "3pJ5_AaugCHg",
        "colab_type": "text"
      },
      "source": [
        "Tuples are immutable which means you cannot update or change the values of tuple elements.\n",
        "\n",
        "You are able to take portions of existing tuples to create new tuples as the following example demonstrates −"
      ]
    },
    {
      "cell_type": "code",
      "metadata": {
        "id": "uG2rVdLcgMTO",
        "colab_type": "code",
        "colab": {
          "base_uri": "https://localhost:8080/",
          "height": 36
        },
        "outputId": "5af14780-0069-464e-ebb9-47e3d0e8833b"
      },
      "source": [
        "tup1 = (12, 34.56);\n",
        "tup2 = ('abc', 'xyz');\n",
        "\n",
        "# Following action is not valid for tuples\n",
        "# tup1[0] = 100;\n",
        "\n",
        "# So let's create a new tuple as follows\n",
        "tup3 = tup1 + tup2;\n",
        "print (tup3);"
      ],
      "execution_count": 8,
      "outputs": [
        {
          "output_type": "stream",
          "text": [
            "(12, 34.56, 'abc', 'xyz')\n"
          ],
          "name": "stdout"
        }
      ]
    },
    {
      "cell_type": "markdown",
      "metadata": {
        "id": "2Qc6CpCOTcLU",
        "colab_type": "text"
      },
      "source": [
        "Values can be assigned while declaring a tuple. It takes a list as input and converts it into a tuple or it takes a string and converts it into a tuple."
      ]
    },
    {
      "cell_type": "code",
      "metadata": {
        "id": "o3tJTHCwTa7F",
        "colab_type": "code",
        "colab": {
          "base_uri": "https://localhost:8080/",
          "height": 54
        },
        "outputId": "8e575a2f-1667-4af9-f3eb-5a45a3ceb76d"
      },
      "source": [
        "\n",
        "\n",
        "tup3 = tuple([1,2,3])\n",
        "print (tup3)\n",
        "tup4 = tuple('Hello')\n",
        "print (tup4)\n",
        "\n"
      ],
      "execution_count": 75,
      "outputs": [
        {
          "output_type": "stream",
          "text": [
            "(1, 2, 3)\n",
            "('H', 'e', 'l', 'l', 'o')\n"
          ],
          "name": "stdout"
        }
      ]
    },
    {
      "cell_type": "code",
      "metadata": {
        "id": "8E91K_GxTkSC",
        "colab_type": "code",
        "colab": {
          "base_uri": "https://localhost:8080/",
          "height": 54
        },
        "outputId": "126f9183-4229-4167-c81c-607bca07f8ce"
      },
      "source": [
        "# It follows the same indexing and slicing as Lists.\n",
        "print (tup3[1])\n",
        "tup5 = tup4[:3]\n",
        "print (tup5)"
      ],
      "execution_count": null,
      "outputs": [
        {
          "output_type": "stream",
          "text": [
            "2\n",
            "('H', 'e', 'l')\n"
          ],
          "name": "stdout"
        }
      ]
    },
    {
      "cell_type": "code",
      "metadata": {
        "id": "AAJrdxIFVEh1",
        "colab_type": "code",
        "colab": {
          "base_uri": "https://localhost:8080/",
          "height": 36
        },
        "outputId": "36b51943-4e0b-4059-bfdd-cb41135b58eb"
      },
      "source": [
        "# Mapping One tuple to another\n",
        "(a,b,c)= ('alpha','beta','gamma')\n",
        "print(a,b,c)"
      ],
      "execution_count": null,
      "outputs": [
        {
          "output_type": "stream",
          "text": [
            "alpha beta gamma\n"
          ],
          "name": "stdout"
        }
      ]
    },
    {
      "cell_type": "markdown",
      "metadata": {
        "id": "I-5YTCCpVWDI",
        "colab_type": "text"
      },
      "source": [
        "\n",
        "# Built In Tuple functions\n",
        "\n",
        "count() function counts the number of specified element that is present in the tuple.\n"
      ]
    },
    {
      "cell_type": "code",
      "metadata": {
        "id": "XBowNkDpVYEU",
        "colab_type": "code",
        "colab": {
          "base_uri": "https://localhost:8080/",
          "height": 54
        },
        "outputId": "650c3174-f48f-4eaa-8e69-3f76142e05a7"
      },
      "source": [
        "d = tuple('Mallikarjunarao')\n",
        "print(d)\n",
        "print(d.count('a'))"
      ],
      "execution_count": 27,
      "outputs": [
        {
          "output_type": "stream",
          "text": [
            "('M', 'a', 'l', 'l', 'i', 'k', 'a', 'r', 'j', 'u', 'n', 'a', 'r', 'a', 'o')\n",
            "4\n"
          ],
          "name": "stdout"
        }
      ]
    },
    {
      "cell_type": "code",
      "metadata": {
        "id": "GoCSqEmWVvMS",
        "colab_type": "code",
        "colab": {
          "base_uri": "https://localhost:8080/",
          "height": 36
        },
        "outputId": "025594d4-da8a-48bc-adc8-bb93330d1f13"
      },
      "source": [
        "d.index('a')"
      ],
      "execution_count": 28,
      "outputs": [
        {
          "output_type": "execute_result",
          "data": {
            "text/plain": [
              "1"
            ]
          },
          "metadata": {
            "tags": []
          },
          "execution_count": 28
        }
      ]
    },
    {
      "cell_type": "markdown",
      "metadata": {
        "id": "SynWYXu3m7bK",
        "colab_type": "text"
      },
      "source": [
        "[link text](https://drive.google.com/file/d/1aM4i5P7MbJjrBn1ATSnE-d4Q68iEhTMZ/view?usp=sharing)"
      ]
    },
    {
      "cell_type": "markdown",
      "metadata": {
        "id": "JRrXaoertQbf",
        "colab_type": "text"
      },
      "source": [
        "**cmp(tuple1, tuple2)** ---- Compares elements of both tuples.\n",
        "\n",
        "\n",
        "**len(tuple)** ------ Gives the total length of the tuple.\n",
        "\n",
        "\n",
        "**max(tuple)**  ------ Returns item from the tuple with max value.\n",
        "\n",
        "\n",
        "**min(tuple)**  ------  Returns item from the tuple with min value.\n",
        "\n",
        "**tuple(seq)**  ------ Converts a list into tuple."
      ]
    },
    {
      "cell_type": "markdown",
      "metadata": {
        "id": "OfKbqGhNV4BJ",
        "colab_type": "text"
      },
      "source": [
        "\n",
        "# Sets\n",
        "\n",
        "Sets are mainly used to eliminate repeated numbers in a sequence/list. It is also used to perform some standard set operations.\n",
        "\n",
        "Sets are declared as set() which will initialize a empty set. Also set([sequence]) can be executed to declare a set with elements\n"
      ]
    },
    {
      "cell_type": "code",
      "metadata": {
        "id": "21Ys6ueoV5gX",
        "colab_type": "code",
        "colab": {
          "base_uri": "https://localhost:8080/",
          "height": 36
        },
        "outputId": "39511096-ba79-4639-e4ed-8f21a66ed60a"
      },
      "source": [
        "set1 = set()\n",
        "print (type(set1))"
      ],
      "execution_count": null,
      "outputs": [
        {
          "output_type": "stream",
          "text": [
            "<class 'set'>\n"
          ],
          "name": "stdout"
        }
      ]
    },
    {
      "cell_type": "code",
      "metadata": {
        "id": "SOkGdjStV_TR",
        "colab_type": "code",
        "colab": {
          "base_uri": "https://localhost:8080/",
          "height": 36
        },
        "outputId": "df880f21-416d-4df9-9ced-999b63123a73"
      },
      "source": [
        "set0 = set([1,2,2,3,3,4])\n",
        "print (set0)"
      ],
      "execution_count": null,
      "outputs": [
        {
          "output_type": "stream",
          "text": [
            "{1, 2, 3, 4}\n"
          ],
          "name": "stdout"
        }
      ]
    },
    {
      "cell_type": "code",
      "metadata": {
        "id": "x5zL0tDI_moY",
        "colab_type": "code",
        "colab": {
          "base_uri": "https://localhost:8080/",
          "height": 36
        },
        "outputId": "663f9034-ff8e-450e-e37a-53cdfc91b949"
      },
      "source": [
        "print(set('hello'))"
      ],
      "execution_count": 59,
      "outputs": [
        {
          "output_type": "stream",
          "text": [
            "{'o', 'h', 'e', 'l'}\n"
          ],
          "name": "stdout"
        }
      ]
    },
    {
      "cell_type": "markdown",
      "metadata": {
        "id": "9OKHenjSWGyL",
        "colab_type": "text"
      },
      "source": [
        "# Built-in Functions"
      ]
    },
    {
      "cell_type": "code",
      "metadata": {
        "id": "x_6UmF43WIum",
        "colab_type": "code",
        "colab": {}
      },
      "source": [
        "set1 = set([1,2,3])\n",
        "set2 = set([2,3,4,5])"
      ],
      "execution_count": 61,
      "outputs": []
    },
    {
      "cell_type": "code",
      "metadata": {
        "id": "_gqg5ZWQWNk9",
        "colab_type": "code",
        "colab": {
          "base_uri": "https://localhost:8080/",
          "height": 54
        },
        "outputId": "2c0e7749-acce-474f-9b11-e5abf0b87557"
      },
      "source": [
        "\n",
        "print(set1)\n",
        "set1.add(0)\n",
        "print(set1)\n"
      ],
      "execution_count": 62,
      "outputs": [
        {
          "output_type": "stream",
          "text": [
            "{1, 2, 3}\n",
            "{0, 1, 2, 3}\n"
          ],
          "name": "stdout"
        }
      ]
    },
    {
      "cell_type": "markdown",
      "metadata": {
        "id": "wFG9teE0UJhN",
        "colab_type": "text"
      },
      "source": [
        "You can use the union() method that returns a new set containing all items from both sets, or the update() method that inserts all the items from one set into another:"
      ]
    },
    {
      "cell_type": "code",
      "metadata": {
        "id": "P5zra-epT_QK",
        "colab_type": "code",
        "colab": {
          "base_uri": "https://localhost:8080/",
          "height": 54
        },
        "outputId": "33313599-a8ae-4069-cca6-39ed29fe1a3e"
      },
      "source": [
        "set1 = set([0,1,2,3])\n",
        "set2 = set([2,3,4,5])\n",
        "print(set1.union(set2))\n",
        "print(set1|set2)"
      ],
      "execution_count": 66,
      "outputs": [
        {
          "output_type": "stream",
          "text": [
            "{0, 1, 2, 3, 4, 5}\n",
            "{0, 1, 2, 3, 4, 5}\n"
          ],
          "name": "stdout"
        }
      ]
    },
    {
      "cell_type": "code",
      "metadata": {
        "id": "rGHQohxe1Sw2",
        "colab_type": "code",
        "colab": {
          "base_uri": "https://localhost:8080/",
          "height": 36
        },
        "outputId": "da555380-1e16-4a26-9e40-f082e7b25b5e"
      },
      "source": [
        "set1.update(set2)\n",
        "print(set1)"
      ],
      "execution_count": 67,
      "outputs": [
        {
          "output_type": "stream",
          "text": [
            "{0, 1, 2, 3, 4, 5}\n"
          ],
          "name": "stdout"
        }
      ]
    },
    {
      "cell_type": "code",
      "metadata": {
        "id": "Y4o47AXTUVH8",
        "colab_type": "code",
        "colab": {
          "base_uri": "https://localhost:8080/",
          "height": 36
        },
        "outputId": "5830693e-7004-4d1a-a0d6-2ec73ba1571a"
      },
      "source": [
        "set11 = {\"a\", \"b\" , \"c\"}\n",
        "set12 = {1, 2, 3}\n",
        "\n",
        "set11.update(set12)\n",
        "print(set11) "
      ],
      "execution_count": 92,
      "outputs": [
        {
          "output_type": "stream",
          "text": [
            "{'a', 1, 'c', 2, 3, 'b'}\n"
          ],
          "name": "stdout"
        }
      ]
    },
    {
      "cell_type": "code",
      "metadata": {
        "id": "YA0RjOxoWZsm",
        "colab_type": "code",
        "colab": {
          "base_uri": "https://localhost:8080/",
          "height": 111
        },
        "outputId": "549fddcd-f9a1-4ab2-9a42-d25cb17c4b8c"
      },
      "source": [
        "set1 = set([0,1,2,3])\n",
        "set2 = set([2,3,4,5])\n",
        "print(set1.intersection(set2))\n",
        "print(set1&set2)\n",
        "\n",
        "print(set1.difference(set2))\n",
        "print(set1-set2)\n",
        "\n",
        "set1.intersection_update(set2)\n",
        "print(set1)"
      ],
      "execution_count": 68,
      "outputs": [
        {
          "output_type": "stream",
          "text": [
            "{2, 3}\n",
            "{2, 3}\n",
            "{0, 1}\n",
            "{0, 1}\n",
            "{2, 3}\n"
          ],
          "name": "stdout"
        }
      ]
    },
    {
      "cell_type": "code",
      "metadata": {
        "id": "FC1boQTfWfDL",
        "colab_type": "code",
        "colab": {
          "base_uri": "https://localhost:8080/",
          "height": 92
        },
        "outputId": "35684a75-8793-4ab6-be50-7fdfa0af3160"
      },
      "source": [
        "#symmetric_difference( ) function ouputs a function which contains elements that are in one of the sets\n",
        "''' Symmetric Difference of A and B is a set of elements in A and B but not in both '''\n",
        "set1 = set([0,1,2,3])\n",
        "set2 = set([2,3,4,5])\n",
        "print(set2.symmetric_difference(set1))\n",
        "print(set2 ^ set1)\n",
        "print(set2)\n",
        "set2.symmetric_difference_update(set1)\n",
        "print(set2)"
      ],
      "execution_count": 33,
      "outputs": [
        {
          "output_type": "stream",
          "text": [
            "{0, 1, 4, 5}\n",
            "{0, 1, 4, 5}\n",
            "{2, 3, 4, 5}\n",
            "{0, 1, 4, 5}\n"
          ],
          "name": "stdout"
        }
      ]
    },
    {
      "cell_type": "markdown",
      "metadata": {
        "id": "0j2SGV2CahuF",
        "colab_type": "text"
      },
      "source": [
        "issubset( ), isdisjoint( ), issuperset( ) is used to check if the set1/set2 is a subset, disjoint or superset of set2/set1 respectively."
      ]
    },
    {
      "cell_type": "code",
      "metadata": {
        "id": "a4c8uV3BajIA",
        "colab_type": "code",
        "colab": {
          "base_uri": "https://localhost:8080/",
          "height": 73
        },
        "outputId": "35752af1-c4ee-4d09-ce98-6ae3bc1dbd24"
      },
      "source": [
        "set1 = set([2,3])\n",
        "set2 = set([2,3,4,5])\n",
        "print(set1.issubset(set2))\n",
        "\n",
        "print(set2.isdisjoint(set1))\n",
        "''' Returns True if two sets have a null intersection '''\n",
        "\n",
        "print(set2.issuperset(set1))"
      ],
      "execution_count": 19,
      "outputs": [
        {
          "output_type": "stream",
          "text": [
            "True\n",
            "False\n",
            "True\n"
          ],
          "name": "stdout"
        }
      ]
    },
    {
      "cell_type": "markdown",
      "metadata": {
        "id": "ehfqtecdbbG9",
        "colab_type": "text"
      },
      "source": [
        "**pop( )** is used to remove an arbitrary element in the set"
      ]
    },
    {
      "cell_type": "code",
      "metadata": {
        "id": "VFgbWff1bdVM",
        "colab_type": "code",
        "colab": {
          "base_uri": "https://localhost:8080/",
          "height": 36
        },
        "outputId": "b2efae72-f071-4b68-943e-bae9541e94da"
      },
      "source": [
        "set1 = set({2,3,4,5})\n",
        "set1.pop()\n",
        "print(set1)"
      ],
      "execution_count": 28,
      "outputs": [
        {
          "output_type": "stream",
          "text": [
            "{3, 4, 5}\n"
          ],
          "name": "stdout"
        }
      ]
    },
    {
      "cell_type": "markdown",
      "metadata": {
        "id": "IkNL1ASRcobS",
        "colab_type": "text"
      },
      "source": [
        "**remove( )** function deletes the specified element from the set."
      ]
    },
    {
      "cell_type": "code",
      "metadata": {
        "id": "YYjKN8Btas22",
        "colab_type": "code",
        "colab": {
          "base_uri": "https://localhost:8080/",
          "height": 54
        },
        "outputId": "d6db6720-a2d2-472a-a6f8-f92ed2b90ac7"
      },
      "source": [
        "set1.remove(3)\n",
        "print(set1)\n",
        "\n",
        "#  clear( ) is used to clear all the elements and make that set an empty set.\n",
        "\n",
        "\n",
        "set1.clear()\n",
        "print(set1)"
      ],
      "execution_count": 29,
      "outputs": [
        {
          "output_type": "stream",
          "text": [
            "{4, 5}\n",
            "set()\n"
          ],
          "name": "stdout"
        }
      ]
    },
    {
      "cell_type": "markdown",
      "metadata": {
        "id": "sBgcfg91ah7g",
        "colab_type": "text"
      },
      "source": [
        "**Python has a set of built-in methods that you can use on sets.**\n",
        "\n",
        "**add()**\t--- Adds an element to the set\n",
        "\n",
        "**clear()**\t-- Removes all the elements from the set\n",
        "\n",
        "**copy()**\t-- Returns a copy of the set\n",
        "\n",
        "**difference()** -- Returns a set containing the difference between two or more sets\n",
        "\n",
        "**difference_update()**\t-- Removes the items in this set that are also included in another, specified set\n",
        "\n",
        "**discard()**\t-- Remove the specified item\n",
        "\n",
        "**intersection()**\t-- Returns a set, that is the intersection of two other sets\n",
        "\n",
        "**intersection_update()**\t-- Removes the items in this set that are not present in other, specified set(s)\n",
        "\n",
        "**isdisjoint()**\t-- Returns whether two sets have a intersection or not\n",
        "\n",
        "**issubset()**\t-- Returns whether another set contains this set or not\n",
        "\n",
        "**issuperset()** --\tReturns whether this set contains another set or not\n",
        "\n",
        "**pop()**\t-- Removes an element from the set\n",
        "\n",
        "**remove()** --\tRemoves the specified element\n",
        "\n",
        "**symmetric_difference()**\t-- Returns a set with the symmetric differences of two sets\n",
        "\n",
        "**symmetric_difference_update()**\t-- inserts the symmetric differences from this set and another\n",
        "\n",
        "**union()**\t-- Return a set containing the union of sets\n",
        "\n",
        "**update()** -- Update the set with the union of this set and others"
      ]
    },
    {
      "cell_type": "markdown",
      "metadata": {
        "id": "5K1REMfQil8e",
        "colab_type": "text"
      },
      "source": [
        "\n",
        "# Strings\n",
        "\n",
        "Strings are ordered text based data which are represented by enclosing the same in single/double/triple quotes.\n"
      ]
    },
    {
      "cell_type": "code",
      "metadata": {
        "id": "YtKiYeTJiqqi",
        "colab_type": "code",
        "colab": {}
      },
      "source": [
        "String0 = 'This is GMRIT'\n",
        "String1 = \"This is GMRIT\"\n",
        "String2 = '''This\n",
        "is\n",
        "GMRIT'''"
      ],
      "execution_count": 79,
      "outputs": []
    },
    {
      "cell_type": "code",
      "metadata": {
        "id": "idJqgHBrjwtd",
        "colab_type": "code",
        "colab": {
          "base_uri": "https://localhost:8080/",
          "height": 111
        },
        "outputId": "f00281c9-3e43-40c1-cd66-613184a2e786"
      },
      "source": [
        "print (String0 , type(String0))\n",
        "print (String1, type(String1))\n",
        "print (String2, type(String2))"
      ],
      "execution_count": 80,
      "outputs": [
        {
          "output_type": "stream",
          "text": [
            "This is GMRIT <class 'str'>\n",
            "This is GMRIT <class 'str'>\n",
            "This\n",
            "is\n",
            "GMRIT <class 'str'>\n"
          ],
          "name": "stdout"
        }
      ]
    },
    {
      "cell_type": "markdown",
      "metadata": {
        "id": "RNItoiYXkEsG",
        "colab_type": "text"
      },
      "source": [
        "String Indexing and Slicing are similar to Lists "
      ]
    },
    {
      "cell_type": "code",
      "metadata": {
        "id": "9Cr2E87ikFxr",
        "colab_type": "code",
        "colab": {
          "base_uri": "https://localhost:8080/",
          "height": 54
        },
        "outputId": "c5e9dad2-2cc1-443c-efc8-2c51480a5b41"
      },
      "source": [
        "print (String0[3])\n",
        "print (String0[1:])"
      ],
      "execution_count": 17,
      "outputs": [
        {
          "output_type": "stream",
          "text": [
            "s\n",
            "his is GMRIT\n"
          ],
          "name": "stdout"
        }
      ]
    },
    {
      "cell_type": "markdown",
      "metadata": {
        "id": "dzwNUU6dk48H",
        "colab_type": "text"
      },
      "source": [
        "\n",
        "**Built-in Function**s\n",
        "\n",
        "find( ) function returns the index value of the given data that is to found in the string. If it is not found it returns -1. Remember to not confuse the returned -1 for reverse indexing value.\n"
      ]
    },
    {
      "cell_type": "code",
      "metadata": {
        "id": "j9PEHVpSk6nw",
        "colab_type": "code",
        "colab": {
          "base_uri": "https://localhost:8080/",
          "height": 54
        },
        "outputId": "264b4275-8c6f-4ab2-841f-ffff045f82ae"
      },
      "source": [
        "print (String0.find('GMR'))\n",
        "print (String0.find('is'))"
      ],
      "execution_count": 18,
      "outputs": [
        {
          "output_type": "stream",
          "text": [
            "8\n",
            "2\n"
          ],
          "name": "stdout"
        }
      ]
    },
    {
      "cell_type": "code",
      "metadata": {
        "id": "ImKvh_0nmFZC",
        "colab_type": "code",
        "colab": {
          "base_uri": "https://localhost:8080/",
          "height": 54
        },
        "outputId": "31abd75c-f0fe-4a27-c7fd-87a4ae5531ae"
      },
      "source": [
        "#One can also input find( ) function between which index values it has to search.\n",
        "\n",
        "print (String0.find('GMR',1))\n",
        "print (String0.find('GMR',1,3))"
      ],
      "execution_count": 19,
      "outputs": [
        {
          "output_type": "stream",
          "text": [
            "8\n",
            "-1\n"
          ],
          "name": "stdout"
        }
      ]
    },
    {
      "cell_type": "code",
      "metadata": {
        "id": "zjNQj9d2nSjw",
        "colab_type": "code",
        "colab": {
          "base_uri": "https://localhost:8080/",
          "height": 92
        },
        "outputId": "9d9071af-eec7-4a77-f99b-63a7f196a0b1"
      },
      "source": [
        "#capitalize( ) is used to capitalize the first element in the string.\n",
        "String3 = 'observe the first letter in this sentence.'\n",
        "print (String3.capitalize())\n",
        "\n",
        "#center( ) is used to center align the string by specifying the field width.\n",
        "print(String0.center(70))\n",
        "print(String0.center(70,'-'))\n",
        "\n",
        "#zfill( ) is used for zero padding by specifying the field width.\n",
        "print(String0.zfill(30))"
      ],
      "execution_count": 20,
      "outputs": [
        {
          "output_type": "stream",
          "text": [
            "Observe the first letter in this sentence.\n",
            "                            This is GMRIT                             \n",
            "----------------------------This is GMRIT-----------------------------\n",
            "00000000000000000This is GMRIT\n"
          ],
          "name": "stdout"
        }
      ]
    },
    {
      "cell_type": "code",
      "metadata": {
        "id": "GCrTCzHDW1KH",
        "colab_type": "code",
        "colab": {
          "base_uri": "https://localhost:8080/",
          "height": 73
        },
        "outputId": "bdc8ed57-77d5-4560-ba94-5d749e7a61bc"
      },
      "source": [
        "#endswith( ) function is used to check if the given string ends with the particular char which is given as input.\n",
        "print (String0.endswith('y'))\n",
        "\n",
        "#The start and stop index values can also be specified.\n",
        "print (String0.endswith('l',0))\n",
        "print (String0.endswith('M',0,5))\n"
      ],
      "execution_count": 21,
      "outputs": [
        {
          "output_type": "stream",
          "text": [
            "False\n",
            "False\n",
            "False\n"
          ],
          "name": "stdout"
        }
      ]
    },
    {
      "cell_type": "markdown",
      "metadata": {
        "id": "6PP9WhTZXNxB",
        "colab_type": "text"
      },
      "source": [
        "count( ) function counts the number of char in the given string. The start and the stop index can also be specified or left blank. (These are Implicit arguments which will be dealt in functions)"
      ]
    },
    {
      "cell_type": "code",
      "metadata": {
        "id": "0H9_N67_XKHA",
        "colab_type": "code",
        "colab": {
          "base_uri": "https://localhost:8080/",
          "height": 54
        },
        "outputId": "c7e57def-5816-4abd-c16d-cb6a4aa1beb5"
      },
      "source": [
        "print (String0.count('a',0))\n",
        "print (String0.count('a',5,10))"
      ],
      "execution_count": 22,
      "outputs": [
        {
          "output_type": "stream",
          "text": [
            "0\n",
            "0\n"
          ],
          "name": "stdout"
        }
      ]
    },
    {
      "cell_type": "markdown",
      "metadata": {
        "id": "Bxl6jnb4Xpp9",
        "colab_type": "text"
      },
      "source": [
        ""
      ]
    },
    {
      "cell_type": "code",
      "metadata": {
        "id": "AfdEcqBdXhyF",
        "colab_type": "code",
        "colab": {
          "base_uri": "https://localhost:8080/",
          "height": 36
        },
        "outputId": "c0adf4a0-a04c-457f-8576-40be37a8a7b8"
      },
      "source": [
        "#join( ) function is used add a char in between the elements of the input string.\n",
        "\n",
        "'a'.join('*_-')"
      ],
      "execution_count": 23,
      "outputs": [
        {
          "output_type": "execute_result",
          "data": {
            "application/vnd.google.colaboratory.intrinsic+json": {
              "type": "string"
            },
            "text/plain": [
              "'*a_a-'"
            ]
          },
          "metadata": {
            "tags": []
          },
          "execution_count": 23
        }
      ]
    },
    {
      "cell_type": "code",
      "metadata": {
        "id": "BzNxW4GA3Vrh",
        "colab_type": "code",
        "colab": {
          "base_uri": "https://localhost:8080/",
          "height": 36
        },
        "outputId": "0a837e73-d239-4255-bf81-b8c1b9d12be0"
      },
      "source": [
        "str1='high'\n",
        "str2='school'\n",
        "print(str1.join(str2))"
      ],
      "execution_count": 25,
      "outputs": [
        {
          "output_type": "stream",
          "text": [
            "shighchighhhighohighohighl\n"
          ],
          "name": "stdout"
        }
      ]
    },
    {
      "cell_type": "markdown",
      "metadata": {
        "id": "1a_7J43dXrCm",
        "colab_type": "text"
      },
      "source": [
        "join( ) function can also be used to convert a list into a string."
      ]
    },
    {
      "cell_type": "code",
      "metadata": {
        "id": "sJL7yj7QXnCX",
        "colab_type": "code",
        "colab": {
          "base_uri": "https://localhost:8080/",
          "height": 54
        },
        "outputId": "48b280c5-e7e6-4ab1-c74c-8c390c99a85e"
      },
      "source": [
        "a = list(String0)\n",
        "print(a)\n",
        "b = ''.join(a)\n",
        "print(b)"
      ],
      "execution_count": 82,
      "outputs": [
        {
          "output_type": "stream",
          "text": [
            "['T', 'h', 'i', 's', ' ', 'i', 's', ' ', 'G', 'M', 'R', 'I', 'T']\n",
            "This is GMRIT\n"
          ],
          "name": "stdout"
        }
      ]
    },
    {
      "cell_type": "markdown",
      "metadata": {
        "id": "em4m0SlGX3x7",
        "colab_type": "text"
      },
      "source": [
        "split( ) function is used to convert a string back to a list. Think of it as the opposite of the join() function."
      ]
    },
    {
      "cell_type": "code",
      "metadata": {
        "id": "PYXaXg0iX4tF",
        "colab_type": "code",
        "colab": {
          "base_uri": "https://localhost:8080/",
          "height": 36
        },
        "outputId": "40005278-9123-4fa6-9aa8-30e318c3c485"
      },
      "source": [
        "c=\"GMRIT is our college in Rajam\"\n",
        "d = c.split(' ')\n",
        "print (d)\n"
      ],
      "execution_count": 85,
      "outputs": [
        {
          "output_type": "stream",
          "text": [
            "['GMRIT', 'is', 'our', 'college', 'in', 'Rajam']\n"
          ],
          "name": "stdout"
        }
      ]
    },
    {
      "cell_type": "code",
      "metadata": {
        "id": "zWO2OK-ZYGJy",
        "colab_type": "code",
        "colab": {
          "base_uri": "https://localhost:8080/",
          "height": 54
        },
        "outputId": "6f44b9bd-9c43-43bb-80cd-0cf143010ccf"
      },
      "source": [
        "#In split( ) function one can also specify the number of times you want to split the string or the number of elements the new returned list should contain\n",
        "e = c.split(' ',3)\n",
        "print (e)\n",
        "print (len(e))"
      ],
      "execution_count": 29,
      "outputs": [
        {
          "output_type": "stream",
          "text": [
            "['GMRIT', 'is', 'our', 'college in Rajam']\n",
            "4\n"
          ],
          "name": "stdout"
        }
      ]
    },
    {
      "cell_type": "markdown",
      "metadata": {
        "id": "c3-FTFJiYXGj",
        "colab_type": "text"
      },
      "source": [
        "lower( ) converts any capital letter to small letter.\n",
        "\n",
        "upper( ) converts any small letter to capital letter.\n",
        "\n",
        "replace( ) function replaces the element with another element.\n",
        "\n"
      ]
    },
    {
      "cell_type": "code",
      "metadata": {
        "id": "VVSs6uxUY-QY",
        "colab_type": "code",
        "colab": {
          "base_uri": "https://localhost:8080/",
          "height": 92
        },
        "outputId": "43e82157-b5a4-4008-8905-37f9bc5b3181"
      },
      "source": [
        "print (String0)\n",
        "print (String0.lower())\n",
        "\n",
        "print(String0.upper())\n",
        "\n",
        "print(String0.replace('GMR','GGG'))"
      ],
      "execution_count": 31,
      "outputs": [
        {
          "output_type": "stream",
          "text": [
            "This is GMRIT\n",
            "this is gmrit\n",
            "THIS IS GMRIT\n",
            "This is GGGIT\n"
          ],
          "name": "stdout"
        }
      ]
    },
    {
      "cell_type": "markdown",
      "metadata": {
        "id": "Ru39wpPLZLkY",
        "colab_type": "text"
      },
      "source": [
        "strip( ) function is used to delete elements from the right end and the left end which is not required.\n",
        "\n",
        "If no char is specified then it will delete all the spaces that is present in the right and left hand side of the data.\n"
      ]
    },
    {
      "cell_type": "code",
      "metadata": {
        "id": "SqCfkl9WZSkp",
        "colab_type": "code",
        "colab": {
          "base_uri": "https://localhost:8080/",
          "height": 36
        },
        "outputId": "6baeccd6-5064-4352-c7a3-e0fb23a4d5ed"
      },
      "source": [
        "f = '    hello      '\n",
        "\n",
        "\n",
        "f.strip()"
      ],
      "execution_count": 32,
      "outputs": [
        {
          "output_type": "execute_result",
          "data": {
            "application/vnd.google.colaboratory.intrinsic+json": {
              "type": "string"
            },
            "text/plain": [
              "'hello'"
            ]
          },
          "metadata": {
            "tags": []
          },
          "execution_count": 32
        }
      ]
    },
    {
      "cell_type": "code",
      "metadata": {
        "id": "jahKByWTZZyb",
        "colab_type": "code",
        "colab": {
          "base_uri": "https://localhost:8080/",
          "height": 36
        },
        "outputId": "75069978-2218-428f-d4b0-941c7a569c1a"
      },
      "source": [
        "#strip( ) function, when a char is specified then it deletes that char if it is present in the two ends of the specified string.\n",
        "\n",
        "\n",
        "\n",
        "\n",
        "f = '   ***----hello---*******     '\n",
        "print(f.strip('*'))"
      ],
      "execution_count": 34,
      "outputs": [
        {
          "output_type": "stream",
          "text": [
            "   ***----hello---*******     \n"
          ],
          "name": "stdout"
        }
      ]
    },
    {
      "cell_type": "markdown",
      "metadata": {
        "id": "qKU30j17ZnW-",
        "colab_type": "text"
      },
      "source": [
        "\n",
        "\n",
        "The asterisk had to be deleted but is not. This is because there is a space in both the right and left hand side. So in strip function. The characters need to be inputted in the specific order in which they are present.\n"
      ]
    },
    {
      "cell_type": "code",
      "metadata": {
        "id": "v_mcxR7fZus-",
        "colab_type": "code",
        "colab": {
          "base_uri": "https://localhost:8080/",
          "height": 54
        },
        "outputId": "c708aee1-bc22-48f4-b1db-6b94e330cbd6"
      },
      "source": [
        "\n",
        "\n",
        "print (f.strip(' *'))\n",
        "print (f.strip(' *-'))\n",
        "\n"
      ],
      "execution_count": 35,
      "outputs": [
        {
          "output_type": "stream",
          "text": [
            "----hello---\n",
            "hello\n"
          ],
          "name": "stdout"
        }
      ]
    },
    {
      "cell_type": "markdown",
      "metadata": {
        "id": "GR0WY57ZZ3QE",
        "colab_type": "text"
      },
      "source": [
        "\n",
        "\n",
        "lstrip( ) and rstrip( ) function have the same functionality as strip function but the only difference is lstrip( ) deletes only towards the left side and rstrip( ) towards the right.\n"
      ]
    },
    {
      "cell_type": "code",
      "metadata": {
        "id": "cgQSp1U5Z4DX",
        "colab_type": "code",
        "colab": {
          "base_uri": "https://localhost:8080/",
          "height": 54
        },
        "outputId": "96b6da5f-4a8f-4a1c-e9f6-9ded0a43b034"
      },
      "source": [
        "print (f.lstrip(' *'))\n",
        "print (f.rstrip(' *'))"
      ],
      "execution_count": 38,
      "outputs": [
        {
          "output_type": "stream",
          "text": [
            "----hello---*******     \n",
            "   ***----hello---\n"
          ],
          "name": "stdout"
        }
      ]
    },
    {
      "cell_type": "markdown",
      "metadata": {
        "id": "ntKn7VDMZ-Nu",
        "colab_type": "text"
      },
      "source": [
        "\n",
        "# **Dictionaries**\n",
        "\n",
        "Dictionaries are more used like a database because here you can index a particular sequence with your user defined string.\n",
        "\n",
        "To define a dictionary, equate a variable to { } or dict()\n"
      ]
    },
    {
      "cell_type": "code",
      "metadata": {
        "id": "fMCK9vkXaEdN",
        "colab_type": "code",
        "colab": {
          "base_uri": "https://localhost:8080/",
          "height": 36
        },
        "outputId": "86b2cac6-c450-4229-a539-901ab77074d2"
      },
      "source": [
        "\n",
        "\n",
        "d0 = {}\n",
        "d1 = dict()\n",
        "print (type(d0), type(d1))\n",
        "\n"
      ],
      "execution_count": 39,
      "outputs": [
        {
          "output_type": "stream",
          "text": [
            "<class 'dict'> <class 'dict'>\n"
          ],
          "name": "stdout"
        }
      ]
    },
    {
      "cell_type": "markdown",
      "metadata": {
        "id": "j8geq4GPaNoq",
        "colab_type": "text"
      },
      "source": [
        "Dictionary works somewhat like a list but with an added capability of assigning it's own index style."
      ]
    },
    {
      "cell_type": "code",
      "metadata": {
        "id": "54RnM9MwaJML",
        "colab_type": "code",
        "colab": {
          "base_uri": "https://localhost:8080/",
          "height": 36
        },
        "outputId": "9a30d213-8888-4474-8824-cf7442d9160e"
      },
      "source": [
        "\n",
        "\n",
        "d0['One'] = 1\n",
        "d0['OneTwo'] = 12 \n",
        "print (d0)\n",
        "\n"
      ],
      "execution_count": 42,
      "outputs": [
        {
          "output_type": "stream",
          "text": [
            "{'One': 1, 'OneTwo': 12}\n"
          ],
          "name": "stdout"
        }
      ]
    },
    {
      "cell_type": "markdown",
      "metadata": {
        "id": "-3t76gA5aWz_",
        "colab_type": "text"
      },
      "source": [
        "That is how a dictionary looks like. Now you are able to access '1' by the index value set at 'One'"
      ]
    },
    {
      "cell_type": "code",
      "metadata": {
        "id": "KnK8zGewaR6D",
        "colab_type": "code",
        "colab": {
          "base_uri": "https://localhost:8080/",
          "height": 36
        },
        "outputId": "16430c38-0da0-4b7e-f976-64a5df68ab62"
      },
      "source": [
        "print (d0['One'])"
      ],
      "execution_count": 44,
      "outputs": [
        {
          "output_type": "stream",
          "text": [
            "1\n"
          ],
          "name": "stdout"
        }
      ]
    },
    {
      "cell_type": "markdown",
      "metadata": {
        "id": "ACYN0XBvadPR",
        "colab_type": "text"
      },
      "source": [
        "Two lists which are related can be merged to form a dictionary.\n",
        "\n",
        "\n",
        "zip( ) function is used to combine two lists\n"
      ]
    },
    {
      "cell_type": "code",
      "metadata": {
        "id": "licv0fgcahBL",
        "colab_type": "code",
        "colab": {
          "base_uri": "https://localhost:8080/",
          "height": 36
        },
        "outputId": "8638d2bd-afc8-4fb7-c062-9480b0428290"
      },
      "source": [
        "\n",
        "\n",
        "names = ['One', 'Two', 'Three', 'Four', 'Five']\n",
        "numbers = [1, 2, 3, 4, 5]\n",
        "\n",
        "d2 = zip(names,numbers)\n",
        "print (d2)\n"
      ],
      "execution_count": 64,
      "outputs": [
        {
          "output_type": "stream",
          "text": [
            "<zip object at 0x7f72cc6db348>\n"
          ],
          "name": "stdout"
        }
      ]
    },
    {
      "cell_type": "markdown",
      "metadata": {
        "id": "_P-pYV7xaks9",
        "colab_type": "text"
      },
      "source": [
        "The two lists are combined to form a single list and each elements are clubbed with their respective elements from the other list inside a tuple. Tuples because that is what is assigned and the value should not change."
      ]
    },
    {
      "cell_type": "markdown",
      "metadata": {
        "id": "OUZ2XSdZa5BI",
        "colab_type": "text"
      },
      "source": [
        "Further, To convert the above into a dictionary. dict( ) function is used."
      ]
    },
    {
      "cell_type": "code",
      "metadata": {
        "id": "qqzp-bRfa6Zy",
        "colab_type": "code",
        "colab": {
          "base_uri": "https://localhost:8080/",
          "height": 36
        },
        "outputId": "206a4ad2-1eaf-43cb-dfe8-d8418e05477a"
      },
      "source": [
        "a1 = dict(d2)\n",
        "print (a1)"
      ],
      "execution_count": 65,
      "outputs": [
        {
          "output_type": "stream",
          "text": [
            "{'One': 1, 'Two': 2, 'Three': 3, 'Four': 4, 'Five': 5}\n"
          ],
          "name": "stdout"
        }
      ]
    },
    {
      "cell_type": "markdown",
      "metadata": {
        "id": "Nv0fVAAua-vN",
        "colab_type": "text"
      },
      "source": [
        "\n",
        "**Built-in Functions**\n",
        "\n",
        "clear( ) function is used to erase the entire database that was created.\n"
      ]
    },
    {
      "cell_type": "code",
      "metadata": {
        "id": "6GmGS961bDTB",
        "colab_type": "code",
        "colab": {
          "base_uri": "https://localhost:8080/",
          "height": 36
        },
        "outputId": "59eaf8ba-bdef-421d-dbf7-1adbe1a22717"
      },
      "source": [
        "a1.clear()\n",
        "print (a1)"
      ],
      "execution_count": 66,
      "outputs": [
        {
          "output_type": "stream",
          "text": [
            "{}\n"
          ],
          "name": "stdout"
        }
      ]
    },
    {
      "cell_type": "code",
      "metadata": {
        "id": "2_fZxiYabSVl",
        "colab_type": "code",
        "colab": {
          "base_uri": "https://localhost:8080/",
          "height": 36
        },
        "outputId": "f1d9a416-ceac-4219-f8ac-d8e4381fc9d5"
      },
      "source": [
        "#Dictionary can also be built using loops.\n",
        "for i in range(len(names)):\n",
        "    a1[names[i]] = numbers[i]\n",
        "print (a1)"
      ],
      "execution_count": 67,
      "outputs": [
        {
          "output_type": "stream",
          "text": [
            "{'One': 1, 'Two': 2, 'Three': 3, 'Four': 4, 'Five': 5}\n"
          ],
          "name": "stdout"
        }
      ]
    },
    {
      "cell_type": "code",
      "metadata": {
        "id": "i8hmP-RgbalP",
        "colab_type": "code",
        "colab": {
          "base_uri": "https://localhost:8080/",
          "height": 54
        },
        "outputId": "b99bc230-13c2-4c86-cfa8-4b4c0f1471f4"
      },
      "source": [
        "#values( ) function returns a list with all the assigned values in the dictionary.\n",
        "print(a1.values())\n",
        "\n",
        "#keys( ) function returns all the index or the keys to which contains the values that it was assigned to.\n",
        "print(a1.keys())"
      ],
      "execution_count": 68,
      "outputs": [
        {
          "output_type": "stream",
          "text": [
            "dict_values([1, 2, 3, 4, 5])\n",
            "dict_keys(['One', 'Two', 'Three', 'Four', 'Five'])\n"
          ],
          "name": "stdout"
        }
      ]
    },
    {
      "cell_type": "markdown",
      "metadata": {
        "id": "NyHNTvs5bQD-",
        "colab_type": "text"
      },
      "source": [
        "items( ) is returns a list containing both the list but each element in the dictionary is inside a tuple. This is same as the result that was obtained when zip function was used."
      ]
    },
    {
      "cell_type": "code",
      "metadata": {
        "id": "cqxkHAdsbpuP",
        "colab_type": "code",
        "colab": {
          "base_uri": "https://localhost:8080/",
          "height": 36
        },
        "outputId": "a3678cef-0bd5-4dd0-e41a-73a07e71000d"
      },
      "source": [
        "print(a1.items())"
      ],
      "execution_count": 69,
      "outputs": [
        {
          "output_type": "stream",
          "text": [
            "dict_items([('One', 1), ('Two', 2), ('Three', 3), ('Four', 4), ('Five', 5)])\n"
          ],
          "name": "stdout"
        }
      ]
    },
    {
      "cell_type": "markdown",
      "metadata": {
        "id": "23L9KY-tbwdh",
        "colab_type": "text"
      },
      "source": [
        "pop( ) function is used to get the remove that particular element and this removed element can be assigned to a new variable. But remember only the value is stored and not the key. Because the is just a index value."
      ]
    },
    {
      "cell_type": "code",
      "metadata": {
        "id": "Q0A1NugWb1E0",
        "colab_type": "code",
        "colab": {
          "base_uri": "https://localhost:8080/",
          "height": 54
        },
        "outputId": "8fba0891-425e-4395-9370-9255e5fcb1bc"
      },
      "source": [
        "a2 = a1.pop('Four')\n",
        "print (a1)\n",
        "print (a2)"
      ],
      "execution_count": 70,
      "outputs": [
        {
          "output_type": "stream",
          "text": [
            "{'One': 1, 'Two': 2, 'Three': 3, 'Five': 5}\n",
            "4\n"
          ],
          "name": "stdout"
        }
      ]
    },
    {
      "cell_type": "markdown",
      "metadata": {
        "id": "jAmOfXhWcDAT",
        "colab_type": "text"
      },
      "source": [
        "# Control Flow Statements\n",
        "\n",
        "\n",
        "\n"
      ]
    },
    {
      "cell_type": "code",
      "metadata": {
        "id": "jOrgq_xMbuLJ",
        "colab_type": "code",
        "colab": {}
      },
      "source": [
        "x = 12\n",
        "if x >10:\n",
        "    print (\"Hello\")"
      ],
      "execution_count": null,
      "outputs": []
    },
    {
      "cell_type": "code",
      "metadata": {
        "id": "Vv56-oF2cX1G",
        "colab_type": "code",
        "colab": {}
      },
      "source": [
        "x = 12\n",
        "if x > 10:\n",
        "    print \"hello\"\n",
        "else:\n",
        "    print \"world\""
      ],
      "execution_count": null,
      "outputs": []
    },
    {
      "cell_type": "code",
      "metadata": {
        "id": "1GzN1P1GcfvP",
        "colab_type": "code",
        "colab": {}
      },
      "source": [
        "\n",
        "\n",
        "x = 10\n",
        "y = 12\n",
        "if x > y:\n",
        "    print \"x>y\"\n",
        "elif x < y:\n",
        "    print \"x<y\"\n",
        "else:\n",
        "    print \"x=y\"\n",
        "\n"
      ],
      "execution_count": null,
      "outputs": []
    },
    {
      "cell_type": "markdown",
      "metadata": {
        "id": "zgjDwNPmco7f",
        "colab_type": "text"
      },
      "source": [
        "\n",
        "**Loops**"
      ]
    },
    {
      "cell_type": "code",
      "metadata": {
        "id": "h44Qt4Xvcscv",
        "colab_type": "code",
        "colab": {
          "base_uri": "https://localhost:8080/",
          "height": 111
        },
        "outputId": "518159e4-ffb9-4c64-9b67-304e4a922927"
      },
      "source": [
        "for i in range(5):\n",
        "    print(i)"
      ],
      "execution_count": 69,
      "outputs": [
        {
          "output_type": "stream",
          "text": [
            "0\n",
            "1\n",
            "2\n",
            "3\n",
            "4\n"
          ],
          "name": "stdout"
        }
      ]
    },
    {
      "cell_type": "code",
      "metadata": {
        "id": "rP6ke-QXcxpQ",
        "colab_type": "code",
        "colab": {}
      },
      "source": [
        "list_of_lists = [[1, 2, 3], [4, 5, 6], [7, 8, 9]]\n",
        "for list1 in list_of_lists:\n",
        "        print list1"
      ],
      "execution_count": null,
      "outputs": []
    },
    {
      "cell_type": "code",
      "metadata": {
        "id": "2fvXSUCEc1TJ",
        "colab_type": "code",
        "colab": {}
      },
      "source": [
        "#A use case of a nested for loop in this case would be,\n",
        "\n",
        "list_of_lists = [[1, 2, 3], [4, 5, 6], [7, 8, 9]]\n",
        "for list1 in list_of_lists:\n",
        "    for x in list1:\n",
        "        print x"
      ],
      "execution_count": null,
      "outputs": []
    },
    {
      "cell_type": "code",
      "metadata": {
        "id": "xAhKHCT9c9Q-",
        "colab_type": "code",
        "colab": {}
      },
      "source": [
        "\n",
        "\n",
        "i = 1\n",
        "while i < 3:\n",
        "    print(i ** 2)\n",
        "    i = i+1\n",
        "print('Bye')\n",
        "\n",
        "  "
      ],
      "execution_count": null,
      "outputs": []
    },
    {
      "cell_type": "code",
      "metadata": {
        "id": "a5I9tl4AdEJV",
        "colab_type": "code",
        "colab": {}
      },
      "source": [
        "# Break\n",
        "# As the name says. It is used to break out of a loop when a condition becomes true when executing the loop.\n",
        "\n",
        "for i in range(100):\n",
        "    print i\n",
        "    if i>=7:\n",
        "        break"
      ],
      "execution_count": null,
      "outputs": []
    },
    {
      "cell_type": "code",
      "metadata": {
        "id": "K6xtSLRJdN6S",
        "colab_type": "code",
        "colab": {}
      },
      "source": [
        "# Continue\n",
        "\n",
        "#This continues the rest of the loop. \n",
        "#Sometimes when a condition is satisfied there are chances of the loop getting terminated. \n",
        "#This can be avoided using continue statement\n",
        "\n",
        "for i in range(10):\n",
        "    if i>4:\n",
        "        print \"The end.\"\n",
        "        continue\n",
        "    elif i<7:\n",
        "        print i"
      ],
      "execution_count": null,
      "outputs": []
    },
    {
      "cell_type": "markdown",
      "metadata": {
        "id": "TKIAmNPtdyz9",
        "colab_type": "text"
      },
      "source": [
        "\n",
        "# **Functions**\n",
        "\n",
        "Most of the times, In a algorithm the statements keep repeating and it will be a tedious job to execute the same statements again and again and will consume a lot of memory and is not efficient. Enter Functions.\n",
        "\n",
        "This is the basic syntax of a function\n",
        "\n",
        "\n"
      ]
    },
    {
      "cell_type": "code",
      "metadata": {
        "id": "NfymjDe3iBwC",
        "colab_type": "code",
        "colab": {}
      },
      "source": [
        "def my_function():\n",
        "  print(\"Hello from a function\") "
      ],
      "execution_count": null,
      "outputs": []
    },
    {
      "cell_type": "code",
      "metadata": {
        "id": "Cd-q4K_2eI3U",
        "colab_type": "code",
        "colab": {}
      },
      "source": [
        "print (\"Hey GMRIT!\")\n",
        "print (\"GMRIT, How do you do?\")"
      ],
      "execution_count": null,
      "outputs": []
    },
    {
      "cell_type": "markdown",
      "metadata": {
        "id": "JWe1YWKDeSDB",
        "colab_type": "text"
      },
      "source": [
        "\n",
        "\n",
        "Instead of writing the above two statements every single time it can be replaced by defining a function which would do the job in just one line.\n",
        "\n",
        "Defining a function firstfunc().\n"
      ]
    },
    {
      "cell_type": "code",
      "metadata": {
        "id": "m4uQ-dpceUKt",
        "colab_type": "code",
        "colab": {}
      },
      "source": [
        "def firstfunc():\n",
        "    print (\"Hey GMRIT!\")\n",
        "    print \"GMRIT, How do you do?\""
      ],
      "execution_count": null,
      "outputs": []
    },
    {
      "cell_type": "code",
      "metadata": {
        "id": "OAgrLcW5ebbx",
        "colab_type": "code",
        "colab": {}
      },
      "source": [
        "'''Calling a function'''\n",
        "firstfunc()"
      ],
      "execution_count": null,
      "outputs": []
    },
    {
      "cell_type": "markdown",
      "metadata": {
        "id": "-K067DBQekq-",
        "colab_type": "text"
      },
      "source": [
        "We can make our function firstfunc() to accept arguments which will store the name and then prints respective to that accepted name"
      ]
    },
    {
      "cell_type": "code",
      "metadata": {
        "id": "GpLM0famelqw",
        "colab_type": "code",
        "colab": {
          "base_uri": "https://localhost:8080/",
          "height": 36
        },
        "outputId": "3576b8d9-8a48-49bc-f26a-3d1adacc9fa3"
      },
      "source": [
        "def firstfunc(username):\n",
        "    print (\"Hey\", username + '!')\n",
        "    print (username + ',' ,\"How do you do?\")\n",
        "name1 = input('Please enter your name : ')"
      ],
      "execution_count": 73,
      "outputs": [
        {
          "output_type": "stream",
          "text": [
            "Please enter your name : GMRIT\n"
          ],
          "name": "stdout"
        }
      ]
    },
    {
      "cell_type": "code",
      "metadata": {
        "id": "s-2TOvZIeuwu",
        "colab_type": "code",
        "colab": {
          "base_uri": "https://localhost:8080/",
          "height": 54
        },
        "outputId": "d5b73665-9743-4487-d704-364287125b9c"
      },
      "source": [
        "firstfunc(name1)"
      ],
      "execution_count": 74,
      "outputs": [
        {
          "output_type": "stream",
          "text": [
            "Hey GMRIT!\n",
            "GMRIT, How do you do?\n"
          ],
          "name": "stdout"
        }
      ]
    },
    {
      "cell_type": "markdown",
      "metadata": {
        "id": "VPrFnhM4eyxo",
        "colab_type": "text"
      },
      "source": [
        "Let us simplify this even further by defining another function secondfunc() which accepts the name and stores it inside a variable and then calls the firstfunc() from inside the function itself."
      ]
    },
    {
      "cell_type": "code",
      "metadata": {
        "id": "LeRAu-OHe1Vz",
        "colab_type": "code",
        "colab": {}
      },
      "source": [
        "\n",
        "\n",
        "def firstfunc(username):\n",
        "    print (\"Hey\", username + '!')\n",
        "    print (username + ',' ,\"How do you do?\")\n",
        "def secondfunc():\n",
        "    name = input(\"Please enter your name : \")\n",
        "    firstfunc(name)\n",
        "\n"
      ],
      "execution_count": 76,
      "outputs": []
    },
    {
      "cell_type": "code",
      "metadata": {
        "id": "72puTQS4e5GZ",
        "colab_type": "code",
        "colab": {
          "base_uri": "https://localhost:8080/",
          "height": 73
        },
        "outputId": "6fd6efe3-93d5-448d-b256-73264c98d833"
      },
      "source": [
        "secondfunc()"
      ],
      "execution_count": 77,
      "outputs": [
        {
          "output_type": "stream",
          "text": [
            "Please enter your name : GMR\n",
            "Hey GMR!\n",
            "GMR, How do you do?\n"
          ],
          "name": "stdout"
        }
      ]
    },
    {
      "cell_type": "markdown",
      "metadata": {
        "id": "yRxDoxk9e6Co",
        "colab_type": "text"
      },
      "source": [
        "\n",
        "**Return Statement**\n",
        "\n",
        "When the function results in some value and that value has to be stored in a variable or needs to be sent back or returned for further operation to the main algorithm, return statement is used.\n"
      ]
    },
    {
      "cell_type": "code",
      "metadata": {
        "id": "cg2CiKAUe9Fr",
        "colab_type": "code",
        "colab": {
          "base_uri": "https://localhost:8080/",
          "height": 36
        },
        "outputId": "a6f438f8-5e2d-4e13-adae-1936e9330a01"
      },
      "source": [
        "def times(x,y):\n",
        "    z = x*y\n",
        "    return z\n",
        "\n",
        "\n",
        "\n",
        "c = times(4,5)\n",
        "print (c)\n",
        "\n"
      ],
      "execution_count": 78,
      "outputs": [
        {
          "output_type": "stream",
          "text": [
            "20\n"
          ],
          "name": "stdout"
        }
      ]
    },
    {
      "cell_type": "markdown",
      "metadata": {
        "id": "dasITSrGfT-Q",
        "colab_type": "text"
      },
      "source": [
        "Multiple variable can also be returned, But keep in mind the order."
      ]
    },
    {
      "cell_type": "code",
      "metadata": {
        "id": "a4volgjnfWRN",
        "colab_type": "code",
        "colab": {}
      },
      "source": [
        "eglist = [10,50,30,12,6,8,100]\n",
        "def egfunc(eglist):\n",
        "    highest = max(eglist)\n",
        "    lowest = min(eglist)\n",
        "    first = eglist[0]\n",
        "    last = eglist[-1]\n",
        "    return highest,lowest,first,last"
      ],
      "execution_count": 79,
      "outputs": []
    },
    {
      "cell_type": "code",
      "metadata": {
        "id": "IrTR6-CFfbER",
        "colab_type": "code",
        "colab": {
          "base_uri": "https://localhost:8080/",
          "height": 36
        },
        "outputId": "606aea46-73ef-4380-c19e-a1786dd2a831"
      },
      "source": [
        "egfunc(eglist)"
      ],
      "execution_count": 80,
      "outputs": [
        {
          "output_type": "execute_result",
          "data": {
            "text/plain": [
              "(100, 6, 10, 100)"
            ]
          },
          "metadata": {
            "tags": []
          },
          "execution_count": 80
        }
      ]
    },
    {
      "cell_type": "code",
      "metadata": {
        "id": "GM4b0CXmfdcF",
        "colab_type": "code",
        "colab": {
          "base_uri": "https://localhost:8080/",
          "height": 92
        },
        "outputId": "6026ca5c-859a-48ff-f43b-1826e7a7c922"
      },
      "source": [
        "a,b,c,d = egfunc(eglist)\n",
        "print (' a =',a,'\\n b =',b,'\\n c =',c,'\\n d =',d)"
      ],
      "execution_count": 82,
      "outputs": [
        {
          "output_type": "stream",
          "text": [
            " a = 100 \n",
            " b = 6 \n",
            " c = 10 \n",
            " d = 100\n"
          ],
          "name": "stdout"
        }
      ]
    },
    {
      "cell_type": "markdown",
      "metadata": {
        "id": "fe8wucoDfkBd",
        "colab_type": "text"
      },
      "source": [
        "\n",
        "**Implicit arguments**\n",
        "\n",
        "When an argument of a function is common in majority of the cases or it is \"implicit\" this concept is used"
      ]
    },
    {
      "cell_type": "code",
      "metadata": {
        "id": "lA06ZzCjflxa",
        "colab_type": "code",
        "colab": {}
      },
      "source": [
        "def implicitadd(x,y=3):\n",
        "    return x+y"
      ],
      "execution_count": 83,
      "outputs": []
    },
    {
      "cell_type": "code",
      "metadata": {
        "id": "S5doAekiftia",
        "colab_type": "code",
        "colab": {
          "base_uri": "https://localhost:8080/",
          "height": 36
        },
        "outputId": "96ece66f-5132-4154-a407-30ce23dc743f"
      },
      "source": [
        "# Now if the second argument is not defined when calling the implicitadd( ) function then it considered as 3.\n",
        "implicitadd(4)"
      ],
      "execution_count": 84,
      "outputs": [
        {
          "output_type": "execute_result",
          "data": {
            "text/plain": [
              "7"
            ]
          },
          "metadata": {
            "tags": []
          },
          "execution_count": 84
        }
      ]
    },
    {
      "cell_type": "code",
      "metadata": {
        "id": "2wUffkkGfxZ2",
        "colab_type": "code",
        "colab": {
          "base_uri": "https://localhost:8080/",
          "height": 36
        },
        "outputId": "c4c84f11-dc8b-420d-9144-4e9f9abc72d8"
      },
      "source": [
        "#But if the second argument is specified then this value overrides the implicit value assigned to the argument\n",
        "implicitadd(4,4)"
      ],
      "execution_count": 85,
      "outputs": [
        {
          "output_type": "execute_result",
          "data": {
            "text/plain": [
              "8"
            ]
          },
          "metadata": {
            "tags": []
          },
          "execution_count": 85
        }
      ]
    },
    {
      "cell_type": "markdown",
      "metadata": {
        "id": "xXPdJOp4f8Xi",
        "colab_type": "text"
      },
      "source": [
        "\n",
        "**Any number of arguments**\n",
        "\n",
        "If the number of arguments that is to be accepted by a function is not known then a asterisk symbol is used before the argument.\n"
      ]
    },
    {
      "cell_type": "code",
      "metadata": {
        "id": "jvxZ0hhLf-7i",
        "colab_type": "code",
        "colab": {}
      },
      "source": [
        "def add_n(*args):\n",
        "    res = 0\n",
        "    reslist = []\n",
        "    for i in args:\n",
        "        reslist.append(i)\n",
        "    print (reslist)\n",
        "    return sum(reslist)"
      ],
      "execution_count": 87,
      "outputs": []
    },
    {
      "cell_type": "markdown",
      "metadata": {
        "id": "p4z3EgBKgF8B",
        "colab_type": "text"
      },
      "source": [
        "The above function accepts any number of arguments, defines a list and appends all the arguments into that list and return the sum of all the arguments."
      ]
    },
    {
      "cell_type": "code",
      "metadata": {
        "id": "gLb6fzxegIiA",
        "colab_type": "code",
        "colab": {
          "base_uri": "https://localhost:8080/",
          "height": 92
        },
        "outputId": "448b1585-e1b4-443a-c20a-2edb8ab24a8a"
      },
      "source": [
        "print(add_n(1,2,3,4,5))\n",
        "\n",
        "print(add_n(1,2,3))"
      ],
      "execution_count": 88,
      "outputs": [
        {
          "output_type": "stream",
          "text": [
            "[1, 2, 3, 4, 5]\n",
            "15\n",
            "[1, 2, 3]\n",
            "6\n"
          ],
          "name": "stdout"
        }
      ]
    },
    {
      "cell_type": "markdown",
      "metadata": {
        "id": "IgORbcX1geMZ",
        "colab_type": "text"
      },
      "source": [
        "\n",
        "**Global and Local Variables**\n",
        "\n",
        "Whatever variable is declared inside a function is local variable and outside the function in global variable.\n"
      ]
    },
    {
      "cell_type": "code",
      "metadata": {
        "id": "FmeTL93Qgf3s",
        "colab_type": "code",
        "colab": {}
      },
      "source": [
        "eg1 = [1,2,3,4,5]\n",
        "'''In the below function we are appending a element to the declared list inside the function. \n",
        "eg2 variable declared inside the function is a local variable'''\n",
        "def egfunc1():\n",
        "    def thirdfunc(arg1):\n",
        "        eg2 = arg1[:]\n",
        "        eg2.append(6)\n",
        "        print (\"This is happening inside the function :\", eg2) \n",
        "    print (\"This is happening before the function is called : \", eg1)\n",
        "    thirdfunc(eg1)\n",
        "    print (\"This is happening outside the function :\", eg1)  \n",
        "    print (\"Accessing a variable declared inside the function from outside :\" , eg2)"
      ],
      "execution_count": 91,
      "outputs": []
    },
    {
      "cell_type": "code",
      "metadata": {
        "id": "l9F5gHGOgxbn",
        "colab_type": "code",
        "colab": {
          "base_uri": "https://localhost:8080/",
          "height": 92
        },
        "outputId": "79bbefcb-4c2c-49f8-8496-df4498b12475"
      },
      "source": [
        "\n",
        "\n",
        "egfunc1()\n",
        "\n"
      ],
      "execution_count": 92,
      "outputs": [
        {
          "output_type": "stream",
          "text": [
            "This is happening before the function is called :  [1, 2, 3, 4, 5]\n",
            "This is happening inside the function : [1, 2, 3, 4, 5, 6]\n",
            "This is happening outside the function : [1, 2, 3, 4, 5]\n",
            "Accessing a variable declared inside the function from outside : <map object at 0x7ffb24b6bc88>\n"
          ],
          "name": "stdout"
        }
      ]
    },
    {
      "cell_type": "code",
      "metadata": {
        "id": "GJPgBKXVg6kZ",
        "colab_type": "code",
        "colab": {}
      },
      "source": [
        "def egfunc1():\n",
        "    def thirdfunc(arg1):\n",
        "        global eg2\n",
        "        eg2 = arg1[:]\n",
        "        eg2.append(6)\n",
        "        print (\"This is happening inside the function :\", eg2) \n",
        "    print (\"This is happening before the function is called : \", eg1)\n",
        "    thirdfunc(eg1)\n",
        "    print (\"This is happening outside the function :\", eg1   )\n",
        "    print (\"Accessing a variable declared inside the function from outside :\" , eg2)"
      ],
      "execution_count": 94,
      "outputs": []
    },
    {
      "cell_type": "code",
      "metadata": {
        "id": "Va6oPkD0g9wo",
        "colab_type": "code",
        "colab": {
          "base_uri": "https://localhost:8080/",
          "height": 92
        },
        "outputId": "9c3a853d-564b-48c6-cd1d-dee488c7470f"
      },
      "source": [
        "egfunc1()"
      ],
      "execution_count": 95,
      "outputs": [
        {
          "output_type": "stream",
          "text": [
            "This is happening before the function is called :  [1, 2, 3, 4, 5]\n",
            "This is happening inside the function : [1, 2, 3, 4, 5, 6]\n",
            "This is happening outside the function : [1, 2, 3, 4, 5]\n",
            "Accessing a variable declared inside the function from outside : [1, 2, 3, 4, 5, 6]\n"
          ],
          "name": "stdout"
        }
      ]
    },
    {
      "cell_type": "markdown",
      "metadata": {
        "id": "Zcg3_cybi6SU",
        "colab_type": "text"
      },
      "source": [
        "**Pass** \n",
        "\n",
        "function definitions cannot be empty, but if you for some reason have a function definition with no content, put in the **pass** statement to avoid getting an error."
      ]
    },
    {
      "cell_type": "code",
      "metadata": {
        "id": "Zvb3Roz0jNV7",
        "colab_type": "code",
        "colab": {}
      },
      "source": [
        "def myfunction():\n",
        "  pass"
      ],
      "execution_count": null,
      "outputs": []
    },
    {
      "cell_type": "markdown",
      "metadata": {
        "id": "W4HfFwb9hAEP",
        "colab_type": "text"
      },
      "source": [
        "\n",
        "**Lambda Functions**\n",
        "\n",
        "These are small functions which are not defined with any name and carry a single expression whose result is returned. Lambda functions comes very handy when operating with lists. These function are defined by the keyword lambda followed by the variables, a colon and the respective expression.\n"
      ]
    },
    {
      "cell_type": "markdown",
      "metadata": {
        "id": "fuMeqCNkjf4y",
        "colab_type": "text"
      },
      "source": [
        "A lambda function is a small anonymous function.\n",
        "\n",
        "A lambda function can take any number of arguments, but can only have one expression.\n",
        "\n",
        "lambda *arguments* : *expression*\n",
        "\n",
        "\n",
        "The expression is executed and the result is returned:"
      ]
    },
    {
      "cell_type": "code",
      "metadata": {
        "id": "GGZnPp_ahCAk",
        "colab_type": "code",
        "colab": {}
      },
      "source": [
        "z = lambda x: x * 10"
      ],
      "execution_count": 96,
      "outputs": []
    },
    {
      "cell_type": "code",
      "metadata": {
        "id": "ku7x7HZthExh",
        "colab_type": "code",
        "colab": {
          "base_uri": "https://localhost:8080/",
          "height": 36
        },
        "outputId": "9406f35a-4d29-42f8-dd9d-b17754433a28"
      },
      "source": [
        "z(8)"
      ],
      "execution_count": 97,
      "outputs": [
        {
          "output_type": "execute_result",
          "data": {
            "text/plain": [
              "80"
            ]
          },
          "metadata": {
            "tags": []
          },
          "execution_count": 97
        }
      ]
    },
    {
      "cell_type": "markdown",
      "metadata": {
        "id": "-fI89V5WkSBI",
        "colab_type": "text"
      },
      "source": [
        "A lambda function that multiplies argument a with argument b and print the result:"
      ]
    },
    {
      "cell_type": "code",
      "metadata": {
        "id": "MMdfnbpVkVJ7",
        "colab_type": "code",
        "colab": {
          "base_uri": "https://localhost:8080/",
          "height": 36
        },
        "outputId": "a054d721-0c0f-45ed-9dc8-05ddfa58291b"
      },
      "source": [
        "x = lambda a, b : a * b\n",
        "print(x(5, 6)) "
      ],
      "execution_count": 1,
      "outputs": [
        {
          "output_type": "stream",
          "text": [
            "30\n"
          ],
          "name": "stdout"
        }
      ]
    },
    {
      "cell_type": "markdown",
      "metadata": {
        "id": "MVkoeE-ElJqT",
        "colab_type": "text"
      },
      "source": [
        "The power of lambda is better shown when you use them as an anonymous function inside another function.\n",
        "\n",
        "Say you have a function definition that takes one argument, and that argument will be multiplied with an unknown number:"
      ]
    },
    {
      "cell_type": "code",
      "metadata": {
        "id": "oNITXl1zlMbO",
        "colab_type": "code",
        "colab": {
          "base_uri": "https://localhost:8080/",
          "height": 36
        },
        "outputId": "e490f2f1-58ae-43b5-ed7e-f66daf31ce40"
      },
      "source": [
        "def myfunc(n):\n",
        "  return lambda a : a * n \n",
        "\n",
        "mydoubler = myfunc(2)\n",
        "\n",
        "print(mydoubler(11))"
      ],
      "execution_count": 2,
      "outputs": [
        {
          "output_type": "stream",
          "text": [
            "22\n"
          ],
          "name": "stdout"
        }
      ]
    },
    {
      "cell_type": "markdown",
      "metadata": {
        "id": "LQqh7z5Sldpq",
        "colab_type": "text"
      },
      "source": [
        "Or, use the same function definition to make a function that always triples the number you send in:"
      ]
    },
    {
      "cell_type": "code",
      "metadata": {
        "id": "NG9xs6WwlhTS",
        "colab_type": "code",
        "colab": {}
      },
      "source": [
        "mytripler = myfunc(3)\n",
        "\n",
        "print(mytripler(11))"
      ],
      "execution_count": null,
      "outputs": []
    },
    {
      "cell_type": "markdown",
      "metadata": {
        "id": "QpZCHLx2l7lO",
        "colab_type": "text"
      },
      "source": [
        ""
      ]
    },
    {
      "cell_type": "markdown",
      "metadata": {
        "id": "_-v6YM2ohOfv",
        "colab_type": "text"
      },
      "source": [
        "\n",
        "**map**\n",
        "\n",
        "map( ) function basically executes the function that is defined to each of the list's element separately\n",
        "\n",
        "The map() function in python has the following syntax:\n",
        "\n",
        "map(func, *iterables)\n",
        "\n",
        "Where func is the function on which each element in iterables (as many as they are) would be applied on. "
      ]
    },
    {
      "cell_type": "code",
      "metadata": {
        "id": "fJ3mBbQQhP1W",
        "colab_type": "code",
        "colab": {
          "base_uri": "https://localhost:8080/",
          "height": 36
        },
        "outputId": "ab15c79b-656a-4339-bada-dd6cb766dc73"
      },
      "source": [
        "list1 = [1,2,3,4,5,6,7,8,9]\n",
        "\n",
        "\n",
        "eg = map(lambda x:x+2, list1)\n",
        "print(list(eg))\n",
        "\n"
      ],
      "execution_count": 98,
      "outputs": [
        {
          "output_type": "stream",
          "text": [
            "[3, 4, 5, 6, 7, 8, 9, 10, 11]\n"
          ],
          "name": "stdout"
        }
      ]
    },
    {
      "cell_type": "code",
      "metadata": {
        "id": "yYcM6sc4hWU7",
        "colab_type": "code",
        "colab": {
          "base_uri": "https://localhost:8080/",
          "height": 36
        },
        "outputId": "85c09f20-4609-475f-b7b8-5a33981b46a3"
      },
      "source": [
        "'''You can also add two lists.'''\n",
        "list2 = [9,8,7,6,5,4,3,2,1]\n",
        "eg2 = map(lambda x,y:x+y, list1,list2)\n",
        "print (list(eg2))"
      ],
      "execution_count": 99,
      "outputs": [
        {
          "output_type": "stream",
          "text": [
            "[10, 10, 10, 10, 10, 10, 10, 10, 10]\n"
          ],
          "name": "stdout"
        }
      ]
    },
    {
      "cell_type": "code",
      "metadata": {
        "id": "7HrOe52QhfFn",
        "colab_type": "code",
        "colab": {
          "base_uri": "https://localhost:8080/",
          "height": 36
        },
        "outputId": "cb889afa-8dd2-430b-a532-e2d69df5904c"
      },
      "source": [
        "'''Not only lambda function but also other built in functions can also be used.'''\n",
        "circle_areas = [3.56773, 5.57668, 4.00914, 56.24241, 9.01344, 32.00013]\n",
        "\n",
        "result = list(map(round, circle_areas, range(1,7)))\n",
        "\n",
        "print(result)"
      ],
      "execution_count": 100,
      "outputs": [
        {
          "output_type": "stream",
          "text": [
            "[3.6, 5.58, 4.009, 56.2424, 9.01344, 32.00013]\n"
          ],
          "name": "stdout"
        }
      ]
    },
    {
      "cell_type": "markdown",
      "metadata": {
        "id": "Pe8LjDlvhl4J",
        "colab_type": "text"
      },
      "source": [
        "\n",
        "**filter**\n",
        "\n",
        "filter( ) function is used to filter out the values in a list. Note that filter() function returns the result in a new list.\n",
        "\n",
        "While map() passes each element in the iterable through a function and returns the result of all elements having passed through the function, filter(), first of all, requires the function to return boolean values (true or false) and then passes each element in the iterable through the function, \"filtering\" away those that are false. It has the following syntax:\n",
        "\n",
        "filter(func, iterable)\n"
      ]
    },
    {
      "cell_type": "code",
      "metadata": {
        "id": "XiHgTcAhhnUF",
        "colab_type": "code",
        "colab": {
          "base_uri": "https://localhost:8080/",
          "height": 36
        },
        "outputId": "e068b46d-8e6a-42ae-a37e-d6edb0c06a42"
      },
      "source": [
        "\n",
        "\n",
        "list1 = [1,2,3,4,5,6,7,8,9]\n",
        "\n",
        "'''To get the elements which are less than 5,'''\n",
        "a=filter(lambda x:x<5,list1)\n",
        "print(list(a))"
      ],
      "execution_count": 53,
      "outputs": [
        {
          "output_type": "stream",
          "text": [
            "[1, 2, 3, 4]\n"
          ],
          "name": "stdout"
        }
      ]
    },
    {
      "cell_type": "code",
      "metadata": {
        "id": "6_c0KBPRhuVG",
        "colab_type": "code",
        "colab": {}
      },
      "source": [
        "'''Notice what happens when map() is used.'''\n",
        "map(lambda x:x<5, list1)"
      ],
      "execution_count": null,
      "outputs": []
    },
    {
      "cell_type": "markdown",
      "metadata": {
        "id": "YfiVO-0eh347",
        "colab_type": "text"
      },
      "source": [
        "We can conclude that, whatever is returned true in map( ) function that particular element is returned when filter( ) function is used."
      ]
    },
    {
      "cell_type": "code",
      "metadata": {
        "id": "VNEMJWY5h4i8",
        "colab_type": "code",
        "colab": {
          "base_uri": "https://localhost:8080/",
          "height": 36
        },
        "outputId": "cfb1a385-d7f5-4ec9-90b1-409d737171a1"
      },
      "source": [
        "list(filter(lambda x:x%4==0,list1))"
      ],
      "execution_count": 54,
      "outputs": [
        {
          "output_type": "execute_result",
          "data": {
            "text/plain": [
              "[4, 8]"
            ]
          },
          "metadata": {
            "tags": []
          },
          "execution_count": 54
        }
      ]
    },
    {
      "cell_type": "markdown",
      "metadata": {
        "id": "pjG9OygKh7x-",
        "colab_type": "text"
      },
      "source": [
        "\n",
        "# **Classes**\n",
        "\n",
        "Variables, Lists, Dictionaries etc in python is a object. Without getting into the theory part of Object Oriented Programming, explanation of the concepts will be done along this tutorial.\n",
        "\n",
        "A class is declared as follows\n",
        "\n",
        "class class_name:\n",
        "\n",
        "      Functions\n",
        "\n"
      ]
    },
    {
      "cell_type": "code",
      "metadata": {
        "id": "oTRL9xaOiIqO",
        "colab_type": "code",
        "colab": {}
      },
      "source": [
        "class FirstClass:\n",
        "    pass\n",
        "\n",
        "'''pass in python means do nothing.'''"
      ],
      "execution_count": null,
      "outputs": []
    },
    {
      "cell_type": "markdown",
      "metadata": {
        "id": "i0nrOH5VWibj",
        "colab_type": "text"
      },
      "source": [
        "Above, a class object named \"FirstClass\" is declared now consider a \"egclass\" which has all the characteristics of \"FirstClass\". So all you have to do is, equate the \"egclass\" to \"FirstClass\". In python this is called as creating an instance. \"egclass\" is the instance of \"FirstClass\""
      ]
    },
    {
      "cell_type": "code",
      "metadata": {
        "id": "ca6M_RcsWRv5",
        "colab_type": "code",
        "colab": {}
      },
      "source": [
        "egclass = FirstClass()\n",
        "\n",
        "\n",
        "print(type(egclass))\n",
        "print(type(FirstClass))\n",
        "\n"
      ],
      "execution_count": null,
      "outputs": []
    },
    {
      "cell_type": "markdown",
      "metadata": {
        "id": "PFVPMWI8WmBj",
        "colab_type": "text"
      },
      "source": [
        "Now let us add some \"functionality\" to the class. So that our \"FirstClass\" is defined in a better way. A function inside a class is called as a \"Method\" of that class\n",
        "\n",
        "Most of the classes will have a function named \"__init__\". These are called as magic methods. In this method you basically initialize the variables of that class or any other initial algorithms which is applicable to all methods is specified in this method. A variable inside a class is called an attribute.\n",
        "\n",
        "\n",
        "\n",
        "\n",
        "These helps simplify the process of initializing a instance. For example,\n",
        "\n",
        "Without the use of magic method or __init__ which is otherwise called as constructors. One had to define a init( ) method and call the init( ) function.\n"
      ]
    },
    {
      "cell_type": "code",
      "metadata": {
        "id": "sgCFwt2XW_Yn",
        "colab_type": "code",
        "colab": {}
      },
      "source": [
        "\n",
        "\n",
        "eg0 = FirstClass()\n",
        "eg0.init()\n",
        "\n"
      ],
      "execution_count": null,
      "outputs": []
    },
    {
      "cell_type": "markdown",
      "metadata": {
        "id": "_-JTL9k-XCVU",
        "colab_type": "text"
      },
      "source": [
        "\n",
        "\n",
        "But when the constructor is defined the __init__ is called thus intializing the instance created.\n",
        "\n",
        "We will make our \"FirstClass\" to accept two variables name and symbol.\n",
        "I will be explaining about the \"self\" in a while."
      ]
    },
    {
      "cell_type": "code",
      "metadata": {
        "id": "AiTSh7AhXPPC",
        "colab_type": "code",
        "colab": {}
      },
      "source": [
        "class FirstClass:\n",
        "    def __init__(self,name,symbol):\n",
        "        self.name = name\n",
        "        self.symbol = symbol"
      ],
      "execution_count": null,
      "outputs": []
    },
    {
      "cell_type": "markdown",
      "metadata": {
        "id": "C2zV1wavXVPl",
        "colab_type": "text"
      },
      "source": [
        "Now that we have defined a function and added the __init__ method. We can create a instance of FirstClass which now accepts two arguments."
      ]
    },
    {
      "cell_type": "code",
      "metadata": {
        "id": "LT9m602VXTl0",
        "colab_type": "code",
        "colab": {}
      },
      "source": [
        "\n",
        "\n",
        "eg1 = FirstClass('one',1)\n",
        "eg2 = FirstClass('two',2)\n",
        "\n"
      ],
      "execution_count": null,
      "outputs": []
    },
    {
      "cell_type": "code",
      "metadata": {
        "id": "vZbEuyLaXA88",
        "colab_type": "code",
        "colab": {}
      },
      "source": [
        "\n",
        "\n",
        "print eg1.name, eg1.symbol\n",
        "print eg2.name, eg2.symbol\n",
        "\n"
      ],
      "execution_count": null,
      "outputs": []
    },
    {
      "cell_type": "markdown",
      "metadata": {
        "id": "Tgdr4TnWXiYp",
        "colab_type": "text"
      },
      "source": [
        "dir( ) function comes very handy in looking into what the class contains and what all method it offers"
      ]
    },
    {
      "cell_type": "code",
      "metadata": {
        "id": "tM1qzstcXhlD",
        "colab_type": "code",
        "colab": {}
      },
      "source": [
        "dir(FirstClass)"
      ],
      "execution_count": null,
      "outputs": []
    },
    {
      "cell_type": "markdown",
      "metadata": {
        "id": "kUkKbMaXXpa4",
        "colab_type": "text"
      },
      "source": [
        "dir( ) of an instance also shows it's defined attributes."
      ]
    },
    {
      "cell_type": "code",
      "metadata": {
        "id": "zNw1rDczXqnN",
        "colab_type": "code",
        "colab": {}
      },
      "source": [
        "\n",
        "\n",
        "dir(eg1)\n",
        "\n"
      ],
      "execution_count": null,
      "outputs": []
    },
    {
      "cell_type": "code",
      "metadata": {
        "id": "m6YTVjzlXv8C",
        "colab_type": "code",
        "colab": {}
      },
      "source": [
        "'''Changing the FirstClass function a bit,'''\n",
        "\n",
        "\n",
        "class FirstClass:\n",
        "    def __init__(self,name,symbol):\n",
        "        self.n = name\n",
        "        self.s = symbol\n",
        "\n",
        "''' Changing self.name and self.symbol to self.n and self.s respectively will yield,'''\n",
        "eg1 = FirstClass('one',1)\n",
        "eg2 = FirstClass('two',2)\n",
        "print (eg1.name, eg1.symbol)\n",
        "print (eg2.name, eg2.symbol)"
      ],
      "execution_count": null,
      "outputs": []
    },
    {
      "cell_type": "markdown",
      "metadata": {
        "id": "VJK2WozKYWkG",
        "colab_type": "text"
      },
      "source": [
        "AttributeError, Remember variables are nothing but attributes inside a class? So this means we have not given the correct attribute for the instance."
      ]
    },
    {
      "cell_type": "code",
      "metadata": {
        "id": "oWqL2zD-YXTv",
        "colab_type": "code",
        "colab": {}
      },
      "source": [
        "print(dir(eg1))\n",
        "\n",
        "\n",
        "print (eg1.n, eg1.s)\n",
        "print (eg2.n, eg2.s)"
      ],
      "execution_count": null,
      "outputs": []
    },
    {
      "cell_type": "markdown",
      "metadata": {
        "id": "rOil5fbyYkqh",
        "colab_type": "text"
      },
      "source": [
        "So now we have solved the error. Now let us compare the two examples that we saw.\n",
        "\n",
        "When I declared self.name and self.symbol, there was no attribute error for eg1.name and eg1.symbol and when I declared self.n and self.s, there was no attribute error for eg1.n and eg1.s\n",
        "\n",
        "From the above we can conclude that self is nothing but the instance itself.\n",
        "\n",
        "Remember, self is not predefined it is userdefined. You can make use of anything you are comfortable with. But it has become a common practice to use self."
      ]
    },
    {
      "cell_type": "code",
      "metadata": {
        "id": "n_v3g7VhYqR-",
        "colab_type": "code",
        "colab": {}
      },
      "source": [
        "class FirstClass:\n",
        "    def __init__(asdf1234,name,symbol):\n",
        "        asdf1234.n = name\n",
        "        asdf1234.s = symbol\n",
        "\n",
        "\n",
        "\n",
        "eg1 = FirstClass('one',1)\n",
        "eg2 = FirstClass('two',2)\n",
        "\n",
        "print eg1.n, eg1.s\n",
        "print eg2.n, eg2.s"
      ],
      "execution_count": null,
      "outputs": []
    },
    {
      "cell_type": "markdown",
      "metadata": {
        "id": "G2ZVgcjCY00z",
        "colab_type": "text"
      },
      "source": [
        "\n",
        "\n",
        "Since eg1 and eg2 are instances of FirstClass it need not necessarily be limited to FirstClass itself. It might extend itself by declaring other attributes without having the attribute to be declared inside the FirstClass.\n"
      ]
    },
    {
      "cell_type": "code",
      "metadata": {
        "id": "IPA7j6tYY5nr",
        "colab_type": "code",
        "colab": {}
      },
      "source": [
        "eg1.cube = 1\n",
        "eg2.cube = 8\n",
        "\n",
        "dir(eg1)"
      ],
      "execution_count": null,
      "outputs": []
    },
    {
      "cell_type": "markdown",
      "metadata": {
        "id": "Cwt0IoMvY4s1",
        "colab_type": "text"
      },
      "source": [
        "\n",
        "\n",
        "Just like global and local variables as we saw earlier, even classes have it's own types of variables.\n",
        "\n",
        "Class Attribute : attributes defined outside the method and is applicable to all the instances.\n",
        "\n",
        "Instance Attribute : attributes defined inside a method and is applicable to only that method and is unique to each instance.\n"
      ]
    },
    {
      "cell_type": "code",
      "metadata": {
        "id": "dTA8F_wUZCfE",
        "colab_type": "code",
        "colab": {}
      },
      "source": [
        "class FirstClass:\n",
        "    test = 'test'\n",
        "    def __init__(self,name,symbol):\n",
        "        self.name = name\n",
        "        self.symbol = symbol"
      ],
      "execution_count": null,
      "outputs": []
    },
    {
      "cell_type": "code",
      "metadata": {
        "id": "xDNvTL4NZFdg",
        "colab_type": "code",
        "colab": {}
      },
      "source": [
        "''' Here test is a class attribute and name is a instance attribute.'''\n",
        "eg3 = FirstClass('Three',3)\n",
        "print eg3.test, eg3.name"
      ],
      "execution_count": null,
      "outputs": []
    },
    {
      "cell_type": "code",
      "metadata": {
        "id": "6rq7LCYpZP4A",
        "colab_type": "code",
        "colab": {}
      },
      "source": [
        "''' Let us add some more methods to FirstClass. '''\n",
        "\n",
        "class FirstClass:\n",
        "    def __init__(self,name,symbol):\n",
        "        self.name = name\n",
        "        self.symbol = symbol\n",
        "    def square(self):\n",
        "        return self.symbol * self.symbol\n",
        "    def cube(self):\n",
        "        return self.symbol * self.symbol * self.symbol\n",
        "    def multiply(self, x):\n",
        "        return self.symbol * x\n",
        "\n",
        "eg4 = FirstClass('Five',5)\n",
        "\n",
        "\n",
        "\n",
        "print eg4.square()\n",
        "print eg4.cube()\n",
        "\n",
        "\n",
        "\n",
        "print(eg4.multiply(2))\n",
        "\n",
        "''' The above can also be written as,'''\n",
        "print(FirstClass.multiply(eg4,2))"
      ],
      "execution_count": null,
      "outputs": []
    },
    {
      "cell_type": "markdown",
      "metadata": {
        "id": "bvb37dUfl95w",
        "colab_type": "text"
      },
      "source": [
        "# **File Handling**\n",
        "\n",
        "Python has several functions for creating, reading, updating, and deleting files.\n",
        "\n",
        "The key function for working with files in Python is the **open**() function.\n",
        "\n",
        "The open() function takes two parameters; filename, and mode.\n",
        "\n",
        "There are four different methods (modes) for opening a file:\n",
        "\n",
        "\n",
        "\n",
        "\"r\" - Read - Default value. Opens a file for reading, error if the file does not exist\n",
        "\n",
        "\"a\" - Append - Opens a file for appending, creates the file if it does not exist\n",
        "\n",
        "\"w\" - Write - Opens a file for writing, creates the file if it does not exist\n",
        "\n",
        "\"x\" - Create - Creates the specified file, returns an error if the file exists\n",
        "\n",
        "In addition you can specify if the file should be handled as binary or text mode\n",
        "\n",
        "\n",
        "\"t\" - Text - Default value. Text mode\n",
        "\n",
        "\"b\" - Binary - Binary mode (e.g. images)\n",
        "\n"
      ]
    },
    {
      "cell_type": "markdown",
      "metadata": {
        "id": "42pzGrUKmwjF",
        "colab_type": "text"
      },
      "source": [
        "To open a file for reading it is enough to specify the name of the file:\n",
        "\n",
        "**f = open(\"demofile.txt\") is same as f = open(\"demofile.txt\", \"rt\") because \"r\" for read, and \"t\" for text are the default values, you do not need to specify them.**"
      ]
    },
    {
      "cell_type": "markdown",
      "metadata": {
        "id": "u15mVbc6nPoS",
        "colab_type": "text"
      },
      "source": [
        "**File Open**"
      ]
    },
    {
      "cell_type": "code",
      "metadata": {
        "id": "PDuzZQFLnCOw",
        "colab_type": "code",
        "colab": {}
      },
      "source": [
        "f = open(\"demofile.txt\", \"r\")\n",
        "print(f.read()) \n",
        "\n",
        "''' this works if we have the above file, located in the same folder'''\n",
        "''' But If the file is located in a different location, you will have to specify the file path'''\n",
        "f = open(\"D:\\\\myfiles\\welcome.txt\", \"r\")\n",
        "print(f.read()) "
      ],
      "execution_count": null,
      "outputs": []
    },
    {
      "cell_type": "markdown",
      "metadata": {
        "id": "R3P9gmj3nO3q",
        "colab_type": "text"
      },
      "source": [
        "To read only part of the file, specify how many characters you want to return:"
      ]
    },
    {
      "cell_type": "code",
      "metadata": {
        "id": "izlcUem8oTMR",
        "colab_type": "code",
        "colab": {}
      },
      "source": [
        "f = open(\"demofile.txt\", \"r\")\n",
        "print(f.read(5)) "
      ],
      "execution_count": null,
      "outputs": []
    },
    {
      "cell_type": "markdown",
      "metadata": {
        "id": "hjdMFuJeoaKs",
        "colab_type": "text"
      },
      "source": [
        "Read Lines\n",
        "\n",
        "You can return one line by using the readline() method:"
      ]
    },
    {
      "cell_type": "code",
      "metadata": {
        "id": "6d4D80ALohmt",
        "colab_type": "code",
        "colab": {}
      },
      "source": [
        "f = open(\"demofile.txt\", \"r\")\n",
        "print(f.readline()) \n",
        "\n",
        "'''By calling readline() two times, you can read the two first lines:'''\n",
        "f = open(\"demofile.txt\", \"r\")\n",
        "print(f.readline())\n",
        "print(f.readline()) "
      ],
      "execution_count": null,
      "outputs": []
    },
    {
      "cell_type": "markdown",
      "metadata": {
        "id": "49Lv_8Fgosb6",
        "colab_type": "text"
      },
      "source": [
        "By **looping** through the lines of the file, **you can read the whole file, line by line:**"
      ]
    },
    {
      "cell_type": "code",
      "metadata": {
        "id": "IKXifu4SoyOH",
        "colab_type": "code",
        "colab": {}
      },
      "source": [
        "f = open(\"demofile.txt\", \"r\")\n",
        "for x in f:\n",
        "  print(x) "
      ],
      "execution_count": null,
      "outputs": []
    },
    {
      "cell_type": "markdown",
      "metadata": {
        "id": "xBe9a5z7o31e",
        "colab_type": "text"
      },
      "source": [
        "It is a good practice to always close the file when you are done with it."
      ]
    },
    {
      "cell_type": "code",
      "metadata": {
        "id": "9KZwGQ7ao6an",
        "colab_type": "code",
        "colab": {}
      },
      "source": [
        "f = open(\"demofile.txt\", \"r\")\n",
        "print(f.readline())\n",
        "f.close()"
      ],
      "execution_count": null,
      "outputs": []
    },
    {
      "cell_type": "markdown",
      "metadata": {
        "id": "cOWBxplro_Qr",
        "colab_type": "text"
      },
      "source": [
        "**Write to an Existing File**\n",
        "\n",
        "To write to an existing file, you must add a parameter to the open() function:\n",
        "\n",
        "\"a\" - Append - will append to the end of the file\n",
        "\n",
        "\"w\" - Write - will overwrite any existing content"
      ]
    },
    {
      "cell_type": "code",
      "metadata": {
        "id": "5ShV1UPipH0s",
        "colab_type": "code",
        "colab": {}
      },
      "source": [
        "f = open(\"demofile2.txt\", \"a\")\n",
        "f.write(\"Now the file has more content!\")\n",
        "f.close()\n",
        "\n",
        "#open and read the file after the appending:\n",
        "f = open(\"demofile2.txt\", \"r\")\n",
        "print(f.read())"
      ],
      "execution_count": null,
      "outputs": []
    },
    {
      "cell_type": "code",
      "metadata": {
        "id": "QQ3al6PcpPnA",
        "colab_type": "code",
        "colab": {}
      },
      "source": [
        "''' overwriting the content '''\n",
        "f = open(\"demofile3.txt\", \"w\")\n",
        "f.write(\"Woops! I have deleted the content!\")\n",
        "f.close()\n",
        "\n",
        "#open and read the file after the appending:\n",
        "f = open(\"demofile3.txt\", \"r\")\n",
        "print(f.read()) "
      ],
      "execution_count": null,
      "outputs": []
    },
    {
      "cell_type": "markdown",
      "metadata": {
        "id": "JG7NF-mApZbu",
        "colab_type": "text"
      },
      "source": [
        "**Create a New File**\n",
        "\n",
        "To create a new file in Python, use the open() method, with one of the following parameters:\n",
        "\n",
        "\"x\" - Create - will create a file, returns an error if the file exist\n",
        "\n",
        "\"a\" - Append - will create a file if the specified file does not exist\n",
        "\n",
        "\"w\" - Write - will create a file if the specified file does not exist"
      ]
    },
    {
      "cell_type": "code",
      "metadata": {
        "id": "E1qUWHQppbVW",
        "colab_type": "code",
        "colab": {}
      },
      "source": [
        "f = open(\"myfile.txt\", \"x\")\n",
        "# or \n",
        "f = open(\"myfile.txt\", \"w\")"
      ],
      "execution_count": null,
      "outputs": []
    },
    {
      "cell_type": "markdown",
      "metadata": {
        "id": "unD7ICuypxfy",
        "colab_type": "text"
      },
      "source": [
        "**Delete a File**\n",
        "\n",
        "To delete a file, you must import the OS module, and run its os.remove() function"
      ]
    },
    {
      "cell_type": "code",
      "metadata": {
        "id": "Uy8JEUQwpzXd",
        "colab_type": "code",
        "colab": {}
      },
      "source": [
        "import os\n",
        "os.remove(\"demofile.txt\") "
      ],
      "execution_count": null,
      "outputs": []
    },
    {
      "cell_type": "markdown",
      "metadata": {
        "id": "Sn96TpUKsEwO",
        "colab_type": "text"
      },
      "source": [
        "**Exception Handling**"
      ]
    },
    {
      "cell_type": "code",
      "metadata": {
        "id": "fMPhcv8WsMgj",
        "colab_type": "code",
        "colab": {
          "base_uri": "https://localhost:8080/",
          "height": 36
        },
        "outputId": "f485c191-11c7-4e14-957a-0511a41be066"
      },
      "source": [
        "def divide_numbers(a,b):\n",
        "  return a/b\n",
        "\n",
        "divide_numbers(10,2)"
      ],
      "execution_count": 3,
      "outputs": [
        {
          "output_type": "execute_result",
          "data": {
            "text/plain": [
              "5.0"
            ]
          },
          "metadata": {
            "tags": []
          },
          "execution_count": 3
        }
      ]
    },
    {
      "cell_type": "code",
      "metadata": {
        "id": "lq6OvsibsWRb",
        "colab_type": "code",
        "colab": {
          "base_uri": "https://localhost:8080/",
          "height": 306
        },
        "outputId": "2be7447f-c810-46d3-984a-f2b2c75e837c"
      },
      "source": [
        "divide_numbers(10,0)"
      ],
      "execution_count": 4,
      "outputs": [
        {
          "output_type": "error",
          "ename": "ZeroDivisionError",
          "evalue": "ignored",
          "traceback": [
            "\u001b[0;31m---------------------------------------------------------------------------\u001b[0m",
            "\u001b[0;31mZeroDivisionError\u001b[0m                         Traceback (most recent call last)",
            "\u001b[0;32m<ipython-input-4-242ce746b53e>\u001b[0m in \u001b[0;36m<module>\u001b[0;34m()\u001b[0m\n\u001b[0;32m----> 1\u001b[0;31m \u001b[0mdivide_numbers\u001b[0m\u001b[0;34m(\u001b[0m\u001b[0;36m10\u001b[0m\u001b[0;34m,\u001b[0m\u001b[0;36m0\u001b[0m\u001b[0;34m)\u001b[0m\u001b[0;34m\u001b[0m\u001b[0;34m\u001b[0m\u001b[0m\n\u001b[0m",
            "\u001b[0;32m<ipython-input-3-8a53fa6784d1>\u001b[0m in \u001b[0;36mdivide_numbers\u001b[0;34m(a, b)\u001b[0m\n\u001b[1;32m      2\u001b[0m \u001b[0;34m\u001b[0m\u001b[0m\n\u001b[1;32m      3\u001b[0m \u001b[0;32mdef\u001b[0m \u001b[0mdivide_numbers\u001b[0m\u001b[0;34m(\u001b[0m\u001b[0ma\u001b[0m\u001b[0;34m,\u001b[0m\u001b[0mb\u001b[0m\u001b[0;34m)\u001b[0m\u001b[0;34m:\u001b[0m\u001b[0;34m\u001b[0m\u001b[0;34m\u001b[0m\u001b[0m\n\u001b[0;32m----> 4\u001b[0;31m   \u001b[0;32mreturn\u001b[0m \u001b[0ma\u001b[0m\u001b[0;34m/\u001b[0m\u001b[0mb\u001b[0m\u001b[0;34m\u001b[0m\u001b[0;34m\u001b[0m\u001b[0m\n\u001b[0m\u001b[1;32m      5\u001b[0m \u001b[0;34m\u001b[0m\u001b[0m\n\u001b[1;32m      6\u001b[0m \u001b[0mdivide_numbers\u001b[0m\u001b[0;34m(\u001b[0m\u001b[0;36m10\u001b[0m\u001b[0;34m,\u001b[0m\u001b[0;36m2\u001b[0m\u001b[0;34m)\u001b[0m\u001b[0;34m\u001b[0m\u001b[0;34m\u001b[0m\u001b[0m\n",
            "\u001b[0;31mZeroDivisionError\u001b[0m: division by zero"
          ]
        }
      ]
    },
    {
      "cell_type": "code",
      "metadata": {
        "id": "M7LGFpJUsaQm",
        "colab_type": "code",
        "colab": {}
      },
      "source": [
        "'''Now let's handle the exception in our function'''\n",
        "def divide_numbers(a,b):\n",
        "  try:\n",
        "    d = a/b\n",
        "  except ZeroDivisionError as e:\n",
        "    print(e)\n",
        "    d = None\n",
        "  return d"
      ],
      "execution_count": 5,
      "outputs": []
    },
    {
      "cell_type": "code",
      "metadata": {
        "id": "PYiAeQVwsffM",
        "colab_type": "code",
        "colab": {
          "base_uri": "https://localhost:8080/",
          "height": 36
        },
        "outputId": "8baa3298-80ff-4374-abeb-2fd222aa95e1"
      },
      "source": [
        "divide_numbers(10,0)"
      ],
      "execution_count": 6,
      "outputs": [
        {
          "output_type": "stream",
          "text": [
            "division by zero\n"
          ],
          "name": "stdout"
        }
      ]
    },
    {
      "cell_type": "markdown",
      "metadata": {
        "id": "7vRLZFGKsjDY",
        "colab_type": "text"
      },
      "source": [
        "\n",
        "Handling multiple exceptions"
      ]
    },
    {
      "cell_type": "code",
      "metadata": {
        "id": "GOG3CNdiskA9",
        "colab_type": "code",
        "colab": {
          "base_uri": "https://localhost:8080/",
          "height": 381
        },
        "outputId": "f12f71b1-7c80-47c6-bff6-3752178d03c9"
      },
      "source": [
        "x=input(\"Enter number 1:\")\n",
        "y=input(\"Enter number 2:\")\n",
        "divide_numbers(x,y)"
      ],
      "execution_count": 10,
      "outputs": [
        {
          "output_type": "stream",
          "text": [
            "Enter number 1:10\n",
            "Enter number 2:4\n"
          ],
          "name": "stdout"
        },
        {
          "output_type": "error",
          "ename": "TypeError",
          "evalue": "ignored",
          "traceback": [
            "\u001b[0;31m---------------------------------------------------------------------------\u001b[0m",
            "\u001b[0;31mTypeError\u001b[0m                                 Traceback (most recent call last)",
            "\u001b[0;32m<ipython-input-10-688b07b32c86>\u001b[0m in \u001b[0;36m<module>\u001b[0;34m()\u001b[0m\n\u001b[1;32m      1\u001b[0m \u001b[0mx\u001b[0m\u001b[0;34m=\u001b[0m\u001b[0minput\u001b[0m\u001b[0;34m(\u001b[0m\u001b[0;34m\"Enter number 1:\"\u001b[0m\u001b[0;34m)\u001b[0m\u001b[0;34m\u001b[0m\u001b[0;34m\u001b[0m\u001b[0m\n\u001b[1;32m      2\u001b[0m \u001b[0my\u001b[0m\u001b[0;34m=\u001b[0m\u001b[0minput\u001b[0m\u001b[0;34m(\u001b[0m\u001b[0;34m\"Enter number 2:\"\u001b[0m\u001b[0;34m)\u001b[0m\u001b[0;34m\u001b[0m\u001b[0;34m\u001b[0m\u001b[0m\n\u001b[0;32m----> 3\u001b[0;31m \u001b[0mdivide_numbers\u001b[0m\u001b[0;34m(\u001b[0m\u001b[0mx\u001b[0m\u001b[0;34m,\u001b[0m\u001b[0my\u001b[0m\u001b[0;34m)\u001b[0m\u001b[0;34m\u001b[0m\u001b[0;34m\u001b[0m\u001b[0m\n\u001b[0m",
            "\u001b[0;32m<ipython-input-5-44ca6e8f3b00>\u001b[0m in \u001b[0;36mdivide_numbers\u001b[0;34m(a, b)\u001b[0m\n\u001b[1;32m      2\u001b[0m \u001b[0;32mdef\u001b[0m \u001b[0mdivide_numbers\u001b[0m\u001b[0;34m(\u001b[0m\u001b[0ma\u001b[0m\u001b[0;34m,\u001b[0m\u001b[0mb\u001b[0m\u001b[0;34m)\u001b[0m\u001b[0;34m:\u001b[0m\u001b[0;34m\u001b[0m\u001b[0;34m\u001b[0m\u001b[0m\n\u001b[1;32m      3\u001b[0m   \u001b[0;32mtry\u001b[0m\u001b[0;34m:\u001b[0m\u001b[0;34m\u001b[0m\u001b[0;34m\u001b[0m\u001b[0m\n\u001b[0;32m----> 4\u001b[0;31m     \u001b[0md\u001b[0m \u001b[0;34m=\u001b[0m \u001b[0ma\u001b[0m\u001b[0;34m/\u001b[0m\u001b[0mb\u001b[0m\u001b[0;34m\u001b[0m\u001b[0;34m\u001b[0m\u001b[0m\n\u001b[0m\u001b[1;32m      5\u001b[0m   \u001b[0;32mexcept\u001b[0m \u001b[0mZeroDivisionError\u001b[0m \u001b[0;32mas\u001b[0m \u001b[0me\u001b[0m\u001b[0;34m:\u001b[0m\u001b[0;34m\u001b[0m\u001b[0;34m\u001b[0m\u001b[0m\n\u001b[1;32m      6\u001b[0m     \u001b[0mprint\u001b[0m\u001b[0;34m(\u001b[0m\u001b[0me\u001b[0m\u001b[0;34m)\u001b[0m\u001b[0;34m\u001b[0m\u001b[0;34m\u001b[0m\u001b[0m\n",
            "\u001b[0;31mTypeError\u001b[0m: unsupported operand type(s) for /: 'str' and 'str'"
          ]
        }
      ]
    },
    {
      "cell_type": "code",
      "metadata": {
        "id": "AUGTwqKOybtk",
        "colab_type": "code",
        "colab": {}
      },
      "source": [
        "\n",
        "\n",
        "def divide_numbers(a,b):\n",
        "  try:\n",
        "    d = a/b\n",
        "  except TypeError as e:\n",
        "    print(e)\n",
        "    d = None\n",
        "  except ZeroDivisionError as e:\n",
        "    print(e)\n",
        "    d = None\n",
        "\n"
      ],
      "execution_count": 11,
      "outputs": []
    },
    {
      "cell_type": "markdown",
      "metadata": {
        "id": "_MlC3iL3y1F7",
        "colab_type": "text"
      },
      "source": [
        "Lets make the function fully functional by converting string to float"
      ]
    },
    {
      "cell_type": "code",
      "metadata": {
        "id": "oLJMi_3Cyf9e",
        "colab_type": "code",
        "colab": {}
      },
      "source": [
        "\n",
        "def divide_numbers(a,b):\n",
        "  try:\n",
        "    d = float(a)/float(b)\n",
        "  except TypeError as e:\n",
        "    print(e)\n",
        "    d = None\n",
        "  except ZeroDivisionError as e:\n",
        "    print(e)\n",
        "    d = None\n",
        "  return d"
      ],
      "execution_count": 17,
      "outputs": []
    },
    {
      "cell_type": "code",
      "metadata": {
        "id": "7W_hqeFJyr9x",
        "colab_type": "code",
        "colab": {
          "base_uri": "https://localhost:8080/",
          "height": 73
        },
        "outputId": "97f9f45f-7aa6-4bc4-eafc-3162b2eb9683"
      },
      "source": [
        "x=input(\"Enter number 1:\")\n",
        "y=input(\"Enter number 2:\")\n",
        "print(divide_numbers(x,y))"
      ],
      "execution_count": 18,
      "outputs": [
        {
          "output_type": "stream",
          "text": [
            "Enter number 1:10\n",
            "Enter number 2:4\n",
            "2.5\n"
          ],
          "name": "stdout"
        }
      ]
    },
    {
      "cell_type": "markdown",
      "metadata": {
        "id": "x3cHhUdhzgW7",
        "colab_type": "text"
      },
      "source": [
        "**Catching all exceptions**"
      ]
    },
    {
      "cell_type": "code",
      "metadata": {
        "id": "sls-uPgTzig9",
        "colab_type": "code",
        "colab": {}
      },
      "source": [
        "def divide_numbers(a,b):\n",
        "  try:\n",
        "    d = float(a)/float(b)\n",
        "  except Exception as e:\n",
        "    print(\"Exception occured!\")\n",
        "    d = None\n",
        "  return d"
      ],
      "execution_count": 19,
      "outputs": []
    },
    {
      "cell_type": "code",
      "metadata": {
        "id": "ZcsLsOPizmnN",
        "colab_type": "code",
        "colab": {
          "base_uri": "https://localhost:8080/",
          "height": 36
        },
        "outputId": "608b7525-48a2-4185-8096-6f5fb6e68a77"
      },
      "source": [
        "divide_numbers(10,0)"
      ],
      "execution_count": 20,
      "outputs": [
        {
          "output_type": "stream",
          "text": [
            "Exception occured!\n"
          ],
          "name": "stdout"
        }
      ]
    },
    {
      "cell_type": "code",
      "metadata": {
        "id": "ePRN4wDuzqvd",
        "colab_type": "code",
        "colab": {
          "base_uri": "https://localhost:8080/",
          "height": 36
        },
        "outputId": "fe220e75-da82-4ffb-bf75-9c78dbaec8fd"
      },
      "source": [
        "divide_numbers('abc',0)"
      ],
      "execution_count": 21,
      "outputs": [
        {
          "output_type": "stream",
          "text": [
            "Exception occured!\n"
          ],
          "name": "stdout"
        }
      ]
    },
    {
      "cell_type": "markdown",
      "metadata": {
        "id": "SEflRTQpzwGr",
        "colab_type": "text"
      },
      "source": [
        "**Raising exception**"
      ]
    },
    {
      "cell_type": "code",
      "metadata": {
        "id": "91mMxfrsz0fa",
        "colab_type": "code",
        "colab": {}
      },
      "source": [
        "def get_grade(score):\n",
        "  if score>70:\n",
        "    return \"A\"\n",
        "  if score>=50 and score<=70:\n",
        "    return \"B\"\n",
        "  if score<50:\n",
        "    return \"C\""
      ],
      "execution_count": 22,
      "outputs": []
    },
    {
      "cell_type": "code",
      "metadata": {
        "id": "ARlzfbNnz5qR",
        "colab_type": "code",
        "colab": {}
      },
      "source": [
        "get_grade(90)"
      ],
      "execution_count": null,
      "outputs": []
    },
    {
      "cell_type": "code",
      "metadata": {
        "id": "ApbmlfTHz74e",
        "colab_type": "code",
        "colab": {}
      },
      "source": [
        "get_grade(200)"
      ],
      "execution_count": null,
      "outputs": []
    },
    {
      "cell_type": "markdown",
      "metadata": {
        "id": "E9OxPKfbz_c_",
        "colab_type": "text"
      },
      "source": [
        "Here the max test score is 100. So passing 200 as a parameter to this function is clearly invalid. So we should raise an alert"
      ]
    },
    {
      "cell_type": "code",
      "metadata": {
        "id": "T6492Gcg0EQ0",
        "colab_type": "code",
        "colab": {}
      },
      "source": [
        "def get_grade(score):\n",
        "  if score<0 or score>100:\n",
        "    raise ValueError(\"Invalid score\")\n",
        "\n",
        "  if score>70:\n",
        "    return \"A\"\n",
        "  if score>=50 and score<=70:\n",
        "    return \"B\"\n",
        "  if score<50:\n",
        "    return \"C\""
      ],
      "execution_count": 27,
      "outputs": []
    },
    {
      "cell_type": "code",
      "metadata": {
        "id": "wzwDtEXw0HfK",
        "colab_type": "code",
        "colab": {
          "base_uri": "https://localhost:8080/",
          "height": 306
        },
        "outputId": "6212433d-d37c-48e6-c1a6-307e3cc2a582"
      },
      "source": [
        "get_grade(200)"
      ],
      "execution_count": 28,
      "outputs": [
        {
          "output_type": "error",
          "ename": "TypeError",
          "evalue": "ignored",
          "traceback": [
            "\u001b[0;31m---------------------------------------------------------------------------\u001b[0m",
            "\u001b[0;31mTypeError\u001b[0m                                 Traceback (most recent call last)",
            "\u001b[0;32m<ipython-input-28-222f16c44ef8>\u001b[0m in \u001b[0;36m<module>\u001b[0;34m()\u001b[0m\n\u001b[0;32m----> 1\u001b[0;31m \u001b[0mget_grade\u001b[0m\u001b[0;34m(\u001b[0m\u001b[0;36m200\u001b[0m\u001b[0;34m)\u001b[0m\u001b[0;34m\u001b[0m\u001b[0;34m\u001b[0m\u001b[0m\n\u001b[0m",
            "\u001b[0;32m<ipython-input-27-94110ae3f440>\u001b[0m in \u001b[0;36mget_grade\u001b[0;34m(score)\u001b[0m\n\u001b[1;32m      1\u001b[0m \u001b[0;32mdef\u001b[0m \u001b[0mget_grade\u001b[0m\u001b[0;34m(\u001b[0m\u001b[0mscore\u001b[0m\u001b[0;34m)\u001b[0m\u001b[0;34m:\u001b[0m\u001b[0;34m\u001b[0m\u001b[0;34m\u001b[0m\u001b[0m\n\u001b[1;32m      2\u001b[0m   \u001b[0;32mif\u001b[0m \u001b[0mscore\u001b[0m\u001b[0;34m<\u001b[0m\u001b[0;36m0\u001b[0m \u001b[0;32mor\u001b[0m \u001b[0mscore\u001b[0m\u001b[0;34m>\u001b[0m\u001b[0;36m100\u001b[0m\u001b[0;34m:\u001b[0m\u001b[0;34m\u001b[0m\u001b[0;34m\u001b[0m\u001b[0m\n\u001b[0;32m----> 3\u001b[0;31m     \u001b[0;32mraise\u001b[0m \u001b[0;34m(\u001b[0m\u001b[0;34m\"Invalid score\"\u001b[0m\u001b[0;34m)\u001b[0m\u001b[0;34m\u001b[0m\u001b[0;34m\u001b[0m\u001b[0m\n\u001b[0m\u001b[1;32m      4\u001b[0m \u001b[0;34m\u001b[0m\u001b[0m\n\u001b[1;32m      5\u001b[0m   \u001b[0;32mif\u001b[0m \u001b[0mscore\u001b[0m\u001b[0;34m>\u001b[0m\u001b[0;36m70\u001b[0m\u001b[0;34m:\u001b[0m\u001b[0;34m\u001b[0m\u001b[0;34m\u001b[0m\u001b[0m\n",
            "\u001b[0;31mTypeError\u001b[0m: exceptions must derive from BaseException"
          ]
        }
      ]
    }
  ]
}